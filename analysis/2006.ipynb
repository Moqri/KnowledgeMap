{
 "cells": [
  {
   "cell_type": "code",
   "execution_count": 1,
   "metadata": {
    "collapsed": true
   },
   "outputs": [],
   "source": [
    "import pandas as pd\n",
    "pd.options.display.max_rows = 10000\n",
    "pd.set_option('display.max_colwidth', -1)\n",
    "from collections import Counter"
   ]
  },
  {
   "cell_type": "code",
   "execution_count": 6,
   "metadata": {
    "collapsed": true
   },
   "outputs": [],
   "source": [
    "graph='../csv/2006.csv'\n",
    "network=graph"
   ]
  },
  {
   "cell_type": "code",
   "execution_count": 7,
   "metadata": {
    "collapsed": false
   },
   "outputs": [],
   "source": [
    "df=pd.read_csv(network)"
   ]
  },
  {
   "cell_type": "code",
   "execution_count": 8,
   "metadata": {
    "collapsed": false,
    "scrolled": true
   },
   "outputs": [],
   "source": [
    "dg=df[['id','modularity_class']].groupby('modularity_class').count()\n",
    "dg=dg.reset_index(drop=True)\n",
    "dg.rename(columns={'id':'cluster size'},inplace=True)"
   ]
  },
  {
   "cell_type": "code",
   "execution_count": 9,
   "metadata": {
    "collapsed": false
   },
   "outputs": [],
   "source": [
    "df['mod_size']=df.modularity_class.apply(lambda x: dg.iloc[x])"
   ]
  },
  {
   "cell_type": "code",
   "execution_count": 10,
   "metadata": {
    "collapsed": false,
    "scrolled": true
   },
   "outputs": [],
   "source": [
    "#df.sort_values(['mod_size','degree'],ascending=False)[['label','modularity_class']]"
   ]
  },
  {
   "cell_type": "code",
   "execution_count": 11,
   "metadata": {
    "collapsed": true
   },
   "outputs": [],
   "source": [
    "docs=df.label"
   ]
  },
  {
   "cell_type": "code",
   "execution_count": 12,
   "metadata": {
    "collapsed": false
   },
   "outputs": [],
   "source": [
    "import re\n",
    "from nltk import stem\n",
    "porter = stem.porter.PorterStemmer()\n",
    "\n",
    "docs_cleaned = [[re.sub('[.!,;?()\\W\\d]+', '', word) for word in doc.lower().split()] for doc in docs]"
   ]
  },
  {
   "cell_type": "code",
   "execution_count": 13,
   "metadata": {
    "collapsed": false
   },
   "outputs": [],
   "source": [
    "stop= open ('stopList.txt').read()\n",
    "stop_list = set(stop.replace(\"\\n\", \" \").split())\n",
    "docs_stemed = [[porter.stem(word) for word in document if word not in stop_list] for document in docs_cleaned]"
   ]
  },
  {
   "cell_type": "code",
   "execution_count": 14,
   "metadata": {
    "collapsed": false
   },
   "outputs": [],
   "source": [
    "df['ind']=df.index"
   ]
  },
  {
   "cell_type": "code",
   "execution_count": 15,
   "metadata": {
    "collapsed": false
   },
   "outputs": [],
   "source": [
    "df['terms']=df.ind.apply(lambda x: docs_stemed[x])"
   ]
  },
  {
   "cell_type": "code",
   "execution_count": 16,
   "metadata": {
    "collapsed": false
   },
   "outputs": [],
   "source": [
    "dg['keyword']=''\n",
    "dg['key terms']=''\n",
    "\n",
    "for mod in dg.index:\n",
    "    mod_terms=[]\n",
    "    for terms in df[df.modularity_class==mod].terms:\n",
    "        for term in terms:\n",
    "            mod_terms.append(term)\n",
    "            \n",
    "    words = [word for word in mod_terms if word != '']                \n",
    "    words_counter = Counter(words)\n",
    "    top_words=[word for word in words_counter.most_common(5) if word[1]>1]\n",
    "    dg.set_value(mod,'keyword',top_words)\n",
    "    \n",
    "    terms = [words[i]+' '+words[i+1] for i in range(len(words)-1)]\n",
    "    terms_counter= Counter(terms)\n",
    "    top_terms=[term for term in terms_counter.most_common(5) if term[1]>1]\n",
    "    dg.set_value(mod,'key terms',top_terms)"
   ]
  },
  {
   "cell_type": "code",
   "execution_count": 17,
   "metadata": {
    "collapsed": false,
    "scrolled": true
   },
   "outputs": [],
   "source": [
    "density=df.groupby(['modularity_class'])['triangles'].mean()\n",
    "dg['cluster density']=(density/max(density)).round(2)\n",
    "dg=dg.sort_values('cluster density',ascending=False).reset_index(drop=True)"
   ]
  },
  {
   "cell_type": "code",
   "execution_count": 23,
   "metadata": {
    "collapsed": false
   },
   "outputs": [],
   "source": [
    "dg.to_csv('../csv/clusters_2006.csv', encoding='ascii')"
   ]
  },
  {
   "cell_type": "code",
   "execution_count": null,
   "metadata": {
    "collapsed": true
   },
   "outputs": [],
   "source": []
  }
 ],
 "metadata": {
  "anaconda-cloud": {},
  "kernelspec": {
   "display_name": "Python [Root]",
   "language": "python",
   "name": "Python [Root]"
  },
  "language_info": {
   "codemirror_mode": {
    "name": "ipython",
    "version": 2
   },
   "file_extension": ".py",
   "mimetype": "text/x-python",
   "name": "python",
   "nbconvert_exporter": "python",
   "pygments_lexer": "ipython2",
   "version": "2.7.12"
  }
 },
 "nbformat": 4,
 "nbformat_minor": 0
}
