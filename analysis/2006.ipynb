{
 "cells": [
  {
   "cell_type": "code",
   "execution_count": 33,
   "metadata": {
    "collapsed": true
   },
   "outputs": [],
   "source": [
    "import pandas as pd\n",
    "pd.options.display.max_rows = 10000\n",
    "pd.set_option('display.max_colwidth', -1)\n",
    "from collections import Counter"
   ]
  },
  {
   "cell_type": "code",
   "execution_count": 19,
   "metadata": {
    "collapsed": true
   },
   "outputs": [],
   "source": [
    "graph='2006.csv'\n",
    "network=graph"
   ]
  },
  {
   "cell_type": "code",
   "execution_count": 20,
   "metadata": {
    "collapsed": false
   },
   "outputs": [],
   "source": [
    "df=pd.read_csv(network)"
   ]
  },
  {
   "cell_type": "code",
   "execution_count": 21,
   "metadata": {
    "collapsed": false,
    "scrolled": true
   },
   "outputs": [],
   "source": [
    "dg=df[['id','modularity_class']].groupby('modularity_class').count()\n",
    "dg=dg.reset_index(drop=True)\n",
    "dg.rename(columns={'id':'cluster size'},inplace=True)"
   ]
  },
  {
   "cell_type": "code",
   "execution_count": 22,
   "metadata": {
    "collapsed": false
   },
   "outputs": [],
   "source": [
    "df['mod_size']=df.modularity_class.apply(lambda x: dg.iloc[x])"
   ]
  },
  {
   "cell_type": "code",
   "execution_count": 23,
   "metadata": {
    "collapsed": false,
    "scrolled": true
   },
   "outputs": [],
   "source": [
    "#df.sort_values(['mod_size','degree'],ascending=False)[['label','modularity_class']]"
   ]
  },
  {
   "cell_type": "code",
   "execution_count": 24,
   "metadata": {
    "collapsed": true
   },
   "outputs": [],
   "source": [
    "docs=df.label"
   ]
  },
  {
   "cell_type": "code",
   "execution_count": 25,
   "metadata": {
    "collapsed": false
   },
   "outputs": [],
   "source": [
    "import re\n",
    "from nltk import stem\n",
    "porter = stem.porter.PorterStemmer()\n",
    "\n",
    "docs_cleaned = [[re.sub('[.!,;?()\\W\\d]+', '', word) for word in doc.lower().split()] for doc in docs]"
   ]
  },
  {
   "cell_type": "code",
   "execution_count": 26,
   "metadata": {
    "collapsed": false
   },
   "outputs": [],
   "source": [
    "stop= open ('stopList.txt').read()\n",
    "stop_list = set(stop.replace(\"\\n\", \" \").split())\n",
    "docs_stemed = [[porter.stem(word) for word in document if word not in stop_list] for document in docs_cleaned]"
   ]
  },
  {
   "cell_type": "code",
   "execution_count": 30,
   "metadata": {
    "collapsed": false
   },
   "outputs": [],
   "source": [
    "df['ind']=df.index"
   ]
  },
  {
   "cell_type": "code",
   "execution_count": 31,
   "metadata": {
    "collapsed": false
   },
   "outputs": [],
   "source": [
    "df['terms']=df.ind.apply(lambda x: docs_stemed[x])"
   ]
  },
  {
   "cell_type": "code",
   "execution_count": 34,
   "metadata": {
    "collapsed": false
   },
   "outputs": [],
   "source": [
    "dg['keyword']=''\n",
    "dg['key terms']=''\n",
    "\n",
    "for mod in dg.index:\n",
    "    mod_terms=[]\n",
    "    for terms in df[df.modularity_class==mod].terms:\n",
    "        for term in terms:\n",
    "            mod_terms.append(term)\n",
    "            \n",
    "    words = [word for word in mod_terms if word != '']                \n",
    "    words_counter = Counter(words)\n",
    "    top_words=[word for word in words_counter.most_common(5) if word[1]>1]\n",
    "    dg.set_value(mod,'keyword',top_words)\n",
    "    \n",
    "    terms = [words[i]+' '+words[i+1] for i in range(len(words)-1)]\n",
    "    terms_counter= Counter(terms)\n",
    "    top_terms=[term for term in terms_counter.most_common(5) if term[1]>1]\n",
    "    dg.set_value(mod,'key terms',top_terms)"
   ]
  },
  {
   "cell_type": "code",
   "execution_count": 35,
   "metadata": {
    "collapsed": false,
    "scrolled": true
   },
   "outputs": [],
   "source": [
    "density=df.groupby(['modularity_class'])['triangles'].mean()\n",
    "dg['cluster density']=(density/max(density)).round(2)\n",
    "dg=dg.sort_values('cluster density',ascending=False).reset_index(drop=True)"
   ]
  },
  {
   "cell_type": "code",
   "execution_count": 36,
   "metadata": {
    "collapsed": false
   },
   "outputs": [
    {
     "data": {
      "text/html": [
       "<div>\n",
       "<table border=\"1\" class=\"dataframe\">\n",
       "  <thead>\n",
       "    <tr style=\"text-align: right;\">\n",
       "      <th></th>\n",
       "      <th>cluster size</th>\n",
       "      <th>keyword</th>\n",
       "      <th>key terms</th>\n",
       "      <th>cluster density</th>\n",
       "    </tr>\n",
       "  </thead>\n",
       "  <tbody>\n",
       "    <tr>\n",
       "      <th>0</th>\n",
       "      <td>49</td>\n",
       "      <td>[(knowledg, 41), (manag, 18), (organiz, 11), (process, 8), (system, 6)]</td>\n",
       "      <td>[(knowledg manag, 14), (organiz knowledg, 3), (manag system, 3), (electron economi, 2), (knowledg repositori, 2)]</td>\n",
       "      <td>1.00</td>\n",
       "    </tr>\n",
       "    <tr>\n",
       "      <th>1</th>\n",
       "      <td>55</td>\n",
       "      <td>[(group, 31), (support, 20), (system, 14), (electron, 9), (decis, 8)]</td>\n",
       "      <td>[(support system, 14), (group support, 13), (electron brainstorm, 7), (decis make, 5), (make group, 2)]</td>\n",
       "      <td>0.71</td>\n",
       "    </tr>\n",
       "    <tr>\n",
       "      <th>2</th>\n",
       "      <td>46</td>\n",
       "      <td>[(measur, 20), (user, 17), (system, 13), (satisfact, 11), (servic, 10)]</td>\n",
       "      <td>[(user satisfact, 7), (servic qualiti, 7), (measur system, 5), (system servic, 5), (user particip, 3)]</td>\n",
       "      <td>0.37</td>\n",
       "    </tr>\n",
       "    <tr>\n",
       "      <th>3</th>\n",
       "      <td>32</td>\n",
       "      <td>[(project, 18), (softwar, 10), (system, 8), (manag, 7), (technolog, 7)]</td>\n",
       "      <td>[(softwar project, 6), (sourc softwar, 3), (project manag, 3), (softwar develop, 3), (system develop, 3)]</td>\n",
       "      <td>0.26</td>\n",
       "    </tr>\n",
       "    <tr>\n",
       "      <th>4</th>\n",
       "      <td>21</td>\n",
       "      <td>[(job, 7), (career, 7), (profession, 6), (skill, 4), (turnov, 4)]</td>\n",
       "      <td>[(system profession, 3), (career orient, 2), (technolog worker, 2), (job skill, 2), (gender differ, 2)]</td>\n",
       "      <td>0.23</td>\n",
       "    </tr>\n",
       "    <tr>\n",
       "      <th>5</th>\n",
       "      <td>39</td>\n",
       "      <td>[(technolog, 23), (adopt, 14), (accept, 13), (model, 13), (usag, 8)]</td>\n",
       "      <td>[(technolog accept, 8), (belief technolog, 3), (accept model, 3), (user accept, 3), (technolog usag, 3)]</td>\n",
       "      <td>0.21</td>\n",
       "    </tr>\n",
       "    <tr>\n",
       "      <th>6</th>\n",
       "      <td>31</td>\n",
       "      <td>[(databas, 12), (design, 6), (requir, 5), (analysi, 5), (conceptu, 5)]</td>\n",
       "      <td>[(databas design, 3), (requir elicit, 3), (conceptu model, 2), (data represent, 2), (empir test, 2)]</td>\n",
       "      <td>0.21</td>\n",
       "    </tr>\n",
       "    <tr>\n",
       "      <th>7</th>\n",
       "      <td>39</td>\n",
       "      <td>[(comput, 15), (learn, 11), (train, 10), (collabor, 7), (environ, 6)]</td>\n",
       "      <td>[(comput selfefficaci, 4), (collabor learn, 2), (learn comput, 2), (longitudin field, 2), (train method, 2)]</td>\n",
       "      <td>0.21</td>\n",
       "    </tr>\n",
       "    <tr>\n",
       "      <th>8</th>\n",
       "      <td>22</td>\n",
       "      <td>[(web, 11), (site, 6), (onlin, 6), (consum, 5), (design, 4)]</td>\n",
       "      <td>[(web site, 5), (site usabl, 2), (design web, 2), (onlin consum, 2), (consum percept, 2)]</td>\n",
       "      <td>0.20</td>\n",
       "    </tr>\n",
       "    <tr>\n",
       "      <th>9</th>\n",
       "      <td>31</td>\n",
       "      <td>[(standard, 13), (technolog, 8), (edi, 7), (electron, 6), (system, 5)]</td>\n",
       "      <td>[(electron data, 3), (data interchang, 3), (open system, 2), (standard make, 2), (switch cost, 2)]</td>\n",
       "      <td>0.17</td>\n",
       "    </tr>\n",
       "    <tr>\n",
       "      <th>10</th>\n",
       "      <td>32</td>\n",
       "      <td>[(team, 14), (virtual, 9), (manag, 6), (softwar, 6), (develop, 6)]</td>\n",
       "      <td>[(virtual team, 6), (global virtual, 4), (softwar develop, 2), (softwar project, 2), (distribut team, 2)]</td>\n",
       "      <td>0.17</td>\n",
       "    </tr>\n",
       "    <tr>\n",
       "      <th>11</th>\n",
       "      <td>28</td>\n",
       "      <td>[(risk, 12), (outsourc, 10), (technolog, 7), (manag, 6), (system, 6)]</td>\n",
       "      <td>[(technolog outsourc, 3), (transact risk, 2), (risk manag, 2), (manag risk, 2), (system outsourc, 2)]</td>\n",
       "      <td>0.14</td>\n",
       "    </tr>\n",
       "    <tr>\n",
       "      <th>12</th>\n",
       "      <td>33</td>\n",
       "      <td>[(decis, 11), (system, 7), (support, 6), (design, 5), (model, 5)]</td>\n",
       "      <td>[(decis support, 5), (support system, 3), (decis make, 3), (decis aid, 2), (suppli chain, 2)]</td>\n",
       "      <td>0.14</td>\n",
       "    </tr>\n",
       "    <tr>\n",
       "      <th>13</th>\n",
       "      <td>53</td>\n",
       "      <td>[(trust, 17), (market, 12), (onlin, 11), (electron, 7), (auction, 7)]</td>\n",
       "      <td>[(electron market, 3), (onlin marketplac, 3), (role trust, 2), (erp implement, 2), (insur market, 2)]</td>\n",
       "      <td>0.14</td>\n",
       "    </tr>\n",
       "    <tr>\n",
       "      <th>14</th>\n",
       "      <td>41</td>\n",
       "      <td>[(busi, 8), (process, 8), (approach, 7), (model, 7), (workflow, 6)]</td>\n",
       "      <td>[(busi process, 5), (process chang, 2), (workflow manag, 2), (balanc qualiti, 2), (process model, 2)]</td>\n",
       "      <td>0.13</td>\n",
       "    </tr>\n",
       "    <tr>\n",
       "      <th>15</th>\n",
       "      <td>94</td>\n",
       "      <td>[(system, 28), (technolog, 21), (develop, 12), (methodolog, 10), (informationsystem, 10)]</td>\n",
       "      <td>[(system develop, 4), (system review, 2), (technolog organ, 2), (refer disciplin, 2), (divers system, 2)]</td>\n",
       "      <td>0.12</td>\n",
       "    </tr>\n",
       "    <tr>\n",
       "      <th>16</th>\n",
       "      <td>36</td>\n",
       "      <td>[(commun, 10), (model, 8), (electron, 7), (privaci, 6), (media, 6)]</td>\n",
       "      <td>[(electron commun, 3), (organiz commun, 2), (web person, 2), (media select, 2), (rich theori, 2)]</td>\n",
       "      <td>0.10</td>\n",
       "    </tr>\n",
       "    <tr>\n",
       "      <th>17</th>\n",
       "      <td>42</td>\n",
       "      <td>[(technolog, 12), (manag, 12), (system, 11), (busi, 9), (plan, 9)]</td>\n",
       "      <td>[(busi technolog, 5), (system plan, 3), (informationsystem plan, 3), (technolog manag, 3), (align busi, 3)]</td>\n",
       "      <td>0.10</td>\n",
       "    </tr>\n",
       "    <tr>\n",
       "      <th>18</th>\n",
       "      <td>22</td>\n",
       "      <td>[(softwar, 16), (qualiti, 5), (develop, 5), (system, 3), (perform, 3)]</td>\n",
       "      <td>[(softwar develop, 3), (manag system, 2), (softwar market, 2), (system develop, 2), (qualiti manag, 2)]</td>\n",
       "      <td>0.09</td>\n",
       "    </tr>\n",
       "    <tr>\n",
       "      <th>19</th>\n",
       "      <td>50</td>\n",
       "      <td>[(technolog, 16), (network, 13), (product, 13), (price, 13), (market, 7)]</td>\n",
       "      <td>[(technolog invest, 4), (network technolog, 2), (resourc alloc, 2), (product qualiti, 2), (electron network, 2)]</td>\n",
       "      <td>0.08</td>\n",
       "    </tr>\n",
       "    <tr>\n",
       "      <th>20</th>\n",
       "      <td>18</td>\n",
       "      <td>[(innov, 7), (technolog, 6), (assimil, 4), (system, 4), (cio, 4)]</td>\n",
       "      <td>[(technolog innov, 3), (dynam capabl, 2), (innov examin, 2), (model system, 2)]</td>\n",
       "      <td>0.08</td>\n",
       "    </tr>\n",
       "    <tr>\n",
       "      <th>21</th>\n",
       "      <td>73</td>\n",
       "      <td>[(technolog, 34), (invest, 17), (firm, 16), (perform, 16), (analysi, 9)]</td>\n",
       "      <td>[(technolog invest, 11), (firm perform, 8), (real option, 5), (technolog infrastructur, 5), (suppli chain, 4)]</td>\n",
       "      <td>0.08</td>\n",
       "    </tr>\n",
       "    <tr>\n",
       "      <th>22</th>\n",
       "      <td>6</td>\n",
       "      <td>[(explan, 5), (knowledgebas, 3), (foundat, 2), (system, 2), (theoret, 2)]</td>\n",
       "      <td>[(knowledgebas explan, 2), (theoret foundat, 2)]</td>\n",
       "      <td>0.08</td>\n",
       "    </tr>\n",
       "    <tr>\n",
       "      <th>23</th>\n",
       "      <td>22</td>\n",
       "      <td>[(document, 5), (system, 4), (expert, 3), (web, 2), (expertsystem, 2)]</td>\n",
       "      <td>[(expert system, 3), (induct expert, 2)]</td>\n",
       "      <td>0.06</td>\n",
       "    </tr>\n",
       "    <tr>\n",
       "      <th>24</th>\n",
       "      <td>14</td>\n",
       "      <td>[(ethic, 6), (piraci, 6), (softwar, 4), (model, 4), (code, 2)]</td>\n",
       "      <td>[(softwar piraci, 3), (piraci price, 2)]</td>\n",
       "      <td>0.05</td>\n",
       "    </tr>\n",
       "    <tr>\n",
       "      <th>25</th>\n",
       "      <td>5</td>\n",
       "      <td>[(negoti, 6), (support, 2), (analysi, 2)]</td>\n",
       "      <td>[(negoti support, 2)]</td>\n",
       "      <td>0.03</td>\n",
       "    </tr>\n",
       "  </tbody>\n",
       "</table>\n",
       "</div>"
      ],
      "text/plain": [
       "    cluster size  \\\n",
       "0   49             \n",
       "1   55             \n",
       "2   46             \n",
       "3   32             \n",
       "4   21             \n",
       "5   39             \n",
       "6   31             \n",
       "7   39             \n",
       "8   22             \n",
       "9   31             \n",
       "10  32             \n",
       "11  28             \n",
       "12  33             \n",
       "13  53             \n",
       "14  41             \n",
       "15  94             \n",
       "16  36             \n",
       "17  42             \n",
       "18  22             \n",
       "19  50             \n",
       "20  18             \n",
       "21  73             \n",
       "22  6              \n",
       "23  22             \n",
       "24  14             \n",
       "25  5              \n",
       "\n",
       "                                                                                      keyword  \\\n",
       "0   [(knowledg, 41), (manag, 18), (organiz, 11), (process, 8), (system, 6)]                     \n",
       "1   [(group, 31), (support, 20), (system, 14), (electron, 9), (decis, 8)]                       \n",
       "2   [(measur, 20), (user, 17), (system, 13), (satisfact, 11), (servic, 10)]                     \n",
       "3   [(project, 18), (softwar, 10), (system, 8), (manag, 7), (technolog, 7)]                     \n",
       "4   [(job, 7), (career, 7), (profession, 6), (skill, 4), (turnov, 4)]                           \n",
       "5   [(technolog, 23), (adopt, 14), (accept, 13), (model, 13), (usag, 8)]                        \n",
       "6   [(databas, 12), (design, 6), (requir, 5), (analysi, 5), (conceptu, 5)]                      \n",
       "7   [(comput, 15), (learn, 11), (train, 10), (collabor, 7), (environ, 6)]                       \n",
       "8   [(web, 11), (site, 6), (onlin, 6), (consum, 5), (design, 4)]                                \n",
       "9   [(standard, 13), (technolog, 8), (edi, 7), (electron, 6), (system, 5)]                      \n",
       "10  [(team, 14), (virtual, 9), (manag, 6), (softwar, 6), (develop, 6)]                          \n",
       "11  [(risk, 12), (outsourc, 10), (technolog, 7), (manag, 6), (system, 6)]                       \n",
       "12  [(decis, 11), (system, 7), (support, 6), (design, 5), (model, 5)]                           \n",
       "13  [(trust, 17), (market, 12), (onlin, 11), (electron, 7), (auction, 7)]                       \n",
       "14  [(busi, 8), (process, 8), (approach, 7), (model, 7), (workflow, 6)]                         \n",
       "15  [(system, 28), (technolog, 21), (develop, 12), (methodolog, 10), (informationsystem, 10)]   \n",
       "16  [(commun, 10), (model, 8), (electron, 7), (privaci, 6), (media, 6)]                         \n",
       "17  [(technolog, 12), (manag, 12), (system, 11), (busi, 9), (plan, 9)]                          \n",
       "18  [(softwar, 16), (qualiti, 5), (develop, 5), (system, 3), (perform, 3)]                      \n",
       "19  [(technolog, 16), (network, 13), (product, 13), (price, 13), (market, 7)]                   \n",
       "20  [(innov, 7), (technolog, 6), (assimil, 4), (system, 4), (cio, 4)]                           \n",
       "21  [(technolog, 34), (invest, 17), (firm, 16), (perform, 16), (analysi, 9)]                    \n",
       "22  [(explan, 5), (knowledgebas, 3), (foundat, 2), (system, 2), (theoret, 2)]                   \n",
       "23  [(document, 5), (system, 4), (expert, 3), (web, 2), (expertsystem, 2)]                      \n",
       "24  [(ethic, 6), (piraci, 6), (softwar, 4), (model, 4), (code, 2)]                              \n",
       "25  [(negoti, 6), (support, 2), (analysi, 2)]                                                   \n",
       "\n",
       "                                                                                                            key terms  \\\n",
       "0   [(knowledg manag, 14), (organiz knowledg, 3), (manag system, 3), (electron economi, 2), (knowledg repositori, 2)]   \n",
       "1   [(support system, 14), (group support, 13), (electron brainstorm, 7), (decis make, 5), (make group, 2)]             \n",
       "2   [(user satisfact, 7), (servic qualiti, 7), (measur system, 5), (system servic, 5), (user particip, 3)]              \n",
       "3   [(softwar project, 6), (sourc softwar, 3), (project manag, 3), (softwar develop, 3), (system develop, 3)]           \n",
       "4   [(system profession, 3), (career orient, 2), (technolog worker, 2), (job skill, 2), (gender differ, 2)]             \n",
       "5   [(technolog accept, 8), (belief technolog, 3), (accept model, 3), (user accept, 3), (technolog usag, 3)]            \n",
       "6   [(databas design, 3), (requir elicit, 3), (conceptu model, 2), (data represent, 2), (empir test, 2)]                \n",
       "7   [(comput selfefficaci, 4), (collabor learn, 2), (learn comput, 2), (longitudin field, 2), (train method, 2)]        \n",
       "8   [(web site, 5), (site usabl, 2), (design web, 2), (onlin consum, 2), (consum percept, 2)]                           \n",
       "9   [(electron data, 3), (data interchang, 3), (open system, 2), (standard make, 2), (switch cost, 2)]                  \n",
       "10  [(virtual team, 6), (global virtual, 4), (softwar develop, 2), (softwar project, 2), (distribut team, 2)]           \n",
       "11  [(technolog outsourc, 3), (transact risk, 2), (risk manag, 2), (manag risk, 2), (system outsourc, 2)]               \n",
       "12  [(decis support, 5), (support system, 3), (decis make, 3), (decis aid, 2), (suppli chain, 2)]                       \n",
       "13  [(electron market, 3), (onlin marketplac, 3), (role trust, 2), (erp implement, 2), (insur market, 2)]               \n",
       "14  [(busi process, 5), (process chang, 2), (workflow manag, 2), (balanc qualiti, 2), (process model, 2)]               \n",
       "15  [(system develop, 4), (system review, 2), (technolog organ, 2), (refer disciplin, 2), (divers system, 2)]           \n",
       "16  [(electron commun, 3), (organiz commun, 2), (web person, 2), (media select, 2), (rich theori, 2)]                   \n",
       "17  [(busi technolog, 5), (system plan, 3), (informationsystem plan, 3), (technolog manag, 3), (align busi, 3)]         \n",
       "18  [(softwar develop, 3), (manag system, 2), (softwar market, 2), (system develop, 2), (qualiti manag, 2)]             \n",
       "19  [(technolog invest, 4), (network technolog, 2), (resourc alloc, 2), (product qualiti, 2), (electron network, 2)]    \n",
       "20  [(technolog innov, 3), (dynam capabl, 2), (innov examin, 2), (model system, 2)]                                     \n",
       "21  [(technolog invest, 11), (firm perform, 8), (real option, 5), (technolog infrastructur, 5), (suppli chain, 4)]      \n",
       "22  [(knowledgebas explan, 2), (theoret foundat, 2)]                                                                    \n",
       "23  [(expert system, 3), (induct expert, 2)]                                                                            \n",
       "24  [(softwar piraci, 3), (piraci price, 2)]                                                                            \n",
       "25  [(negoti support, 2)]                                                                                               \n",
       "\n",
       "    cluster density  \n",
       "0   1.00             \n",
       "1   0.71             \n",
       "2   0.37             \n",
       "3   0.26             \n",
       "4   0.23             \n",
       "5   0.21             \n",
       "6   0.21             \n",
       "7   0.21             \n",
       "8   0.20             \n",
       "9   0.17             \n",
       "10  0.17             \n",
       "11  0.14             \n",
       "12  0.14             \n",
       "13  0.14             \n",
       "14  0.13             \n",
       "15  0.12             \n",
       "16  0.10             \n",
       "17  0.10             \n",
       "18  0.09             \n",
       "19  0.08             \n",
       "20  0.08             \n",
       "21  0.08             \n",
       "22  0.08             \n",
       "23  0.06             \n",
       "24  0.05             \n",
       "25  0.03             "
      ]
     },
     "execution_count": 36,
     "metadata": {},
     "output_type": "execute_result"
    }
   ],
   "source": [
    "#dg.to_csv('test.csv', encoding='ascii')\n",
    "dg"
   ]
  },
  {
   "cell_type": "code",
   "execution_count": null,
   "metadata": {
    "collapsed": true
   },
   "outputs": [],
   "source": []
  }
 ],
 "metadata": {
  "anaconda-cloud": {},
  "kernelspec": {
   "display_name": "Python [Root]",
   "language": "python",
   "name": "Python [Root]"
  },
  "language_info": {
   "codemirror_mode": {
    "name": "ipython",
    "version": 2
   },
   "file_extension": ".py",
   "mimetype": "text/x-python",
   "name": "python",
   "nbconvert_exporter": "python",
   "pygments_lexer": "ipython2",
   "version": "2.7.12"
  }
 },
 "nbformat": 4,
 "nbformat_minor": 0
}
