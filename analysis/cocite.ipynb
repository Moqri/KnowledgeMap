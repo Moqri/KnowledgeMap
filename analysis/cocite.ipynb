{
 "cells": [
  {
   "cell_type": "code",
   "execution_count": 1,
   "metadata": {
    "collapsed": true
   },
   "outputs": [],
   "source": [
    "in_file =r'../../data/clean/articles.csv' \n",
    "\n",
    "import pandas as pd\n",
    "pd.set_option('display.max_columns', 500)\n",
    "\n",
    "import numpy as np"
   ]
  },
  {
   "cell_type": "code",
   "execution_count": 2,
   "metadata": {
    "collapsed": false
   },
   "outputs": [],
   "source": [
    "df=pd.read_csv(in_file,index_col=False)\n",
    "df.CR.fillna('',inplace=True)\n",
    "df_ref=df.CR"
   ]
  },
  {
   "cell_type": "code",
   "execution_count": 3,
   "metadata": {
    "collapsed": false
   },
   "outputs": [],
   "source": [
    "refs_dict={}\n",
    "i=0\n",
    "for ref in df_ref:\n",
    "    refs_dict[i]=[ref for ref in ref.split('; ')]\n",
    "    i=i+1"
   ]
  },
  {
   "cell_type": "code",
   "execution_count": 4,
   "metadata": {
    "collapsed": false
   },
   "outputs": [],
   "source": [
    "refs_basket_dict={}\n",
    "sources=[\n",
    "    'MIS QUART',\n",
    "    'J MANAGE INFORM SYST',\n",
    "    'INFORM SYST RES'\n",
    "]\n",
    "sources=[', '+source+',' for source in sources]\n",
    "\n",
    "for i in refs_dict:\n",
    "    refs=refs_dict[i]\n",
    "    refs_basket=[]\n",
    "    for ref in refs:\n",
    "        if any (source in ref for source in sources):\n",
    "            refs_basket.append(ref)\n",
    "    refs_basket_dict[i]=refs_basket"
   ]
  },
  {
   "cell_type": "code",
   "execution_count": 5,
   "metadata": {
    "collapsed": true
   },
   "outputs": [],
   "source": [
    "df['author']=df.AU.apply(lambda x: x.split(';')[0].replace(',',''))\n",
    "df['signiture']=df.author+', '+df.PY.astype(str)+', '+df.J9+', V'+df.VL.astype(str)+', P'+df.BP.astype(str)\n",
    "df['signiture']=df.apply(lambda x : x.signiture if pd.isnull(x.DI) else x.signiture+', DOI '+x.DI, axis=1 )"
   ]
  },
  {
   "cell_type": "code",
   "execution_count": 6,
   "metadata": {
    "collapsed": false
   },
   "outputs": [],
   "source": [
    "cite = open('cite.csv', 'w')\n",
    "cite.write('citing,cited\\n')\n",
    "\n",
    "for row in refs_basket_dict:\n",
    "    for ref in refs_basket_dict[row]:\n",
    "        if ref in df.signiture.values:\n",
    "            cite.write(str(row)+','+str(np.where(df.signiture==ref)[0][0])+'\\n')\n",
    "cite.close()"
   ]
  },
  {
   "cell_type": "code",
   "execution_count": 7,
   "metadata": {
    "collapsed": true
   },
   "outputs": [],
   "source": [
    "df=pd.read_csv('cite.csv',dtype=int)"
   ]
  },
  {
   "cell_type": "code",
   "execution_count": 8,
   "metadata": {
    "collapsed": false
   },
   "outputs": [],
   "source": [
    "max=np.max([df.citing.max(),df.citing.max()])\n",
    "mm=np.zeros((max+1,max+1))\n",
    "for row in df.iterrows():\n",
    "    mm[row[1][0],row[1][1]]=1\n",
    "coc=np.tril(np.dot(mm.transpose(),mm),-1)"
   ]
  },
  {
   "cell_type": "code",
   "execution_count": 9,
   "metadata": {
    "collapsed": false
   },
   "outputs": [],
   "source": [
    "cocite = open('cocite.csv', 'w')\n",
    "cocite.write('source,target,weight,type\\n')\n",
    "\n",
    "for row in range(coc.shape[0]):\n",
    "    for col in range(row):\n",
    "        if coc[row][col] > 0:\n",
    "            cocite.write(str(row)+','+str(col)+','+str(coc[row][col])+',undirected\\n')\n",
    "cite.close()"
   ]
  },
  {
   "cell_type": "code",
   "execution_count": 13,
   "metadata": {
    "collapsed": false
   },
   "outputs": [
    {
     "data": {
      "text/html": [
       "<div>\n",
       "<table border=\"1\" class=\"dataframe\">\n",
       "  <thead>\n",
       "    <tr style=\"text-align: right;\">\n",
       "      <th></th>\n",
       "      <th>source</th>\n",
       "      <th>target</th>\n",
       "      <th>weight</th>\n",
       "      <th>type</th>\n",
       "    </tr>\n",
       "  </thead>\n",
       "  <tbody>\n",
       "    <tr>\n",
       "      <th>4056</th>\n",
       "      <td>545</td>\n",
       "      <td>398</td>\n",
       "      <td>13.0</td>\n",
       "      <td>undirected</td>\n",
       "    </tr>\n",
       "    <tr>\n",
       "      <th>4058</th>\n",
       "      <td>545</td>\n",
       "      <td>400</td>\n",
       "      <td>12.0</td>\n",
       "      <td>undirected</td>\n",
       "    </tr>\n",
       "    <tr>\n",
       "      <th>5030</th>\n",
       "      <td>593</td>\n",
       "      <td>570</td>\n",
       "      <td>17.0</td>\n",
       "      <td>undirected</td>\n",
       "    </tr>\n",
       "    <tr>\n",
       "      <th>7018</th>\n",
       "      <td>682</td>\n",
       "      <td>431</td>\n",
       "      <td>11.0</td>\n",
       "      <td>undirected</td>\n",
       "    </tr>\n",
       "    <tr>\n",
       "      <th>7034</th>\n",
       "      <td>682</td>\n",
       "      <td>482</td>\n",
       "      <td>23.0</td>\n",
       "      <td>undirected</td>\n",
       "    </tr>\n",
       "    <tr>\n",
       "      <th>8301</th>\n",
       "      <td>718</td>\n",
       "      <td>682</td>\n",
       "      <td>11.0</td>\n",
       "      <td>undirected</td>\n",
       "    </tr>\n",
       "    <tr>\n",
       "      <th>9247</th>\n",
       "      <td>756</td>\n",
       "      <td>682</td>\n",
       "      <td>13.0</td>\n",
       "      <td>undirected</td>\n",
       "    </tr>\n",
       "    <tr>\n",
       "      <th>9387</th>\n",
       "      <td>758</td>\n",
       "      <td>682</td>\n",
       "      <td>11.0</td>\n",
       "      <td>undirected</td>\n",
       "    </tr>\n",
       "  </tbody>\n",
       "</table>\n",
       "</div>"
      ],
      "text/plain": [
       "      source  target  weight        type\n",
       "4056     545     398    13.0  undirected\n",
       "4058     545     400    12.0  undirected\n",
       "5030     593     570    17.0  undirected\n",
       "7018     682     431    11.0  undirected\n",
       "7034     682     482    23.0  undirected\n",
       "8301     718     682    11.0  undirected\n",
       "9247     756     682    13.0  undirected\n",
       "9387     758     682    11.0  undirected"
      ]
     },
     "execution_count": 13,
     "metadata": {},
     "output_type": "execute_result"
    }
   ],
   "source": [
    "df=pd.read_csv('cocite.csv')\n",
    "4"
   ]
  },
  {
   "cell_type": "code",
   "execution_count": null,
   "metadata": {
    "collapsed": true
   },
   "outputs": [],
   "source": []
  }
 ],
 "metadata": {
  "anaconda-cloud": {},
  "kernelspec": {
   "display_name": "Python [Root]",
   "language": "python",
   "name": "Python [Root]"
  },
  "language_info": {
   "codemirror_mode": {
    "name": "ipython",
    "version": 2
   },
   "file_extension": ".py",
   "mimetype": "text/x-python",
   "name": "python",
   "nbconvert_exporter": "python",
   "pygments_lexer": "ipython2",
   "version": "2.7.12"
  }
 },
 "nbformat": 4,
 "nbformat_minor": 0
}
