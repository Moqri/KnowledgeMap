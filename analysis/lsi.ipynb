{
 "cells": [
  {
   "cell_type": "code",
   "execution_count": 3,
   "metadata": {
    "collapsed": false
   },
   "outputs": [],
   "source": [
    "in_path =r'../../data/clean/' # use your path\n",
    "out_path=r'../../data/clean/'\n",
    "\n",
    "import pandas as pd\n",
    "pd.set_option('display.max_columns', 500)\n",
    "import glob\n",
    "import re\n",
    "from nltk import stem\n",
    "porter = stem.porter.PorterStemmer()\n",
    "from gensim import corpora, models, similarities\n",
    "import matplotlib.pyplot as plt\n",
    "%matplotlib inline"
   ]
  },
  {
   "cell_type": "code",
   "execution_count": 4,
   "metadata": {
    "collapsed": false
   },
   "outputs": [],
   "source": [
    "    df=pd.read_csv(in_path+\"articles.csv\")   \n",
    "    df.DE.fillna('',inplace=True)\n",
    "    df['doc']=df.AB+'. '+df.TI+'. '+df.DE"
   ]
  },
  {
   "cell_type": "code",
   "execution_count": 5,
   "metadata": {
    "collapsed": true
   },
   "outputs": [],
   "source": [
    "    docs_csv=out_path+\"docs.csv\"\n",
    "    df.doc.to_csv(docs_csv, index=False)\n",
    "    \n",
    "    with open(docs_csv) as f:\n",
    "        docs = f.readlines()"
   ]
  },
  {
   "cell_type": "code",
   "execution_count": 6,
   "metadata": {
    "collapsed": false
   },
   "outputs": [],
   "source": [
    "    docs_cleaned = [[re.sub('[.!,;?()\\W\\d]+', '', word) for word in doc.lower().split()] for doc in docs]\n",
    "    stop= open ('stopList.txt').read()\n",
    "    stop_list = set(stop.replace(\"\\n\", \" \").split())\n",
    "    docs_stemed = [[porter.stem(word) for word in document if word not in stop_list] for document in docs_cleaned]\n",
    "    docs_prepared=out_path+'docs_prepared.csv'\n",
    "    with open(docs_prepared, 'w') as f:\n",
    "        for doc in docs_stemed:f.write(\"%s\\n\" % ' '.join(doc))        "
   ]
  },
  {
   "cell_type": "code",
   "execution_count": 7,
   "metadata": {
    "collapsed": false
   },
   "outputs": [
    {
     "name": "stdout",
     "output_type": "stream",
     "text": [
      "Dictionary(2634 unique tokens: [u'', u'assimil', u'interchang', u'articul', u'payoff']...)\n",
      "MmCorpus(2101 documents, 2634 features, 130884 non-zero entries)\n"
     ]
    }
   ],
   "source": [
    "dictionary = corpora.Dictionary(docs_stemed)\n",
    "dictionary.filter_extremes(no_below=5)\n",
    "dictionary.compactify() \n",
    "print dictionary\n",
    "\n",
    "class MyCorpus(object):\n",
    "    def __iter__(self):\n",
    "        for doc in docs_stemed:\n",
    "            yield dictionary.doc2bow(doc)\n",
    "corpus= MyCorpus() \n",
    "corpora.MmCorpus.serialize('serialized.mm', corpus)\n",
    "corpus = corpora.MmCorpus('serialized.mm')\n",
    "print corpus"
   ]
  },
  {
   "cell_type": "code",
   "execution_count": 8,
   "metadata": {
    "collapsed": false
   },
   "outputs": [],
   "source": [
    "    tfidf = models.tfidfmodel.TfidfModel(corpus)\n",
    "    corpus_tfidf = tfidf[corpus]\n",
    "    lsi = models.LsiModel(corpus_tfidf, id2word=dictionary, num_topics=100) \n",
    "    corpus_lsi=lsi[corpus_tfidf]\n",
    "\n",
    "    index = similarities.MatrixSimilarity(corpus_lsi) \n",
    "    lines = docs_stemed\n",
    "    sims = open('../csv/lsi.csv', 'w')\n",
    "    sims.write('source,target,weight,type\\n')\n",
    "    for i in range(len(docs_stemed)):\n",
    "        doc=lines[i]    \n",
    "        vec_bow = dictionary.doc2bow(doc)\n",
    "        vec_tran = lsi[tfidf[vec_bow]]\n",
    "        #vec_tran = lda[tfidf[vec_bow]]\n",
    "        simsinx = index[vec_tran]\n",
    "        for j in range(i+1,len(simsinx)):\n",
    "            if simsinx[j]>.5:                                        \n",
    "                sims.write(str(i)+','+str(j)+','+str(simsinx[j])+',undirected\\n')\n",
    "    sims.close()"
   ]
  },
  {
   "cell_type": "code",
   "execution_count": 53,
   "metadata": {
    "collapsed": false
   },
   "outputs": [
    {
     "data": {
      "text/plain": [
       "(24434, 4)"
      ]
     },
     "execution_count": 53,
     "metadata": {},
     "output_type": "execute_result"
    }
   ],
   "source": [
    "lsi_df=pd.read_csv('../csv/lsi.csv')\n",
    "lsi_df=lsi_df[lsi_df.weight>.5]\n",
    "lsi_df.shape"
   ]
  },
  {
   "cell_type": "code",
   "execution_count": 69,
   "metadata": {
    "collapsed": false
   },
   "outputs": [
    {
     "data": {
      "text/plain": [
       "(2101L, 2101L)"
      ]
     },
     "execution_count": 69,
     "metadata": {},
     "output_type": "execute_result"
    }
   ],
   "source": [
    "n=max(lsi_df.source.max(),lsi_df.target.max())\n",
    "mm=np.zeros((n+1,n+1))\n",
    "mm.shape"
   ]
  },
  {
   "cell_type": "code",
   "execution_count": 70,
   "metadata": {
    "collapsed": false
   },
   "outputs": [],
   "source": [
    "for row in lsi_df.iterrows():\n",
    "    mm[row[1][0],row[1][1]]=row[1][2]"
   ]
  },
  {
   "cell_type": "code",
   "execution_count": 71,
   "metadata": {
    "collapsed": false
   },
   "outputs": [
    {
     "data": {
      "text/plain": [
       "array([[ 0.      ,  0.690299,  0.      , ...,  0.      ,  0.      ,  0.      ],\n",
       "       [ 0.      ,  0.      ,  0.      , ...,  0.      ,  0.      ,  0.      ],\n",
       "       [ 0.      ,  0.      ,  0.      , ...,  0.      ,  0.      ,  0.      ],\n",
       "       ..., \n",
       "       [ 0.      ,  0.      ,  0.      , ...,  0.      ,  0.      ,  0.      ],\n",
       "       [ 0.      ,  0.      ,  0.      , ...,  0.      ,  0.      ,  0.      ],\n",
       "       [ 0.      ,  0.      ,  0.      , ...,  0.      ,  0.      ,  0.      ]])"
      ]
     },
     "execution_count": 71,
     "metadata": {},
     "output_type": "execute_result"
    }
   ],
   "source": [
    "mm"
   ]
  },
  {
   "cell_type": "code",
   "execution_count": 73,
   "metadata": {
    "collapsed": false
   },
   "outputs": [
    {
     "data": {
      "image/png": "[encoded data removed]",
      "text/plain": [
       "<matplotlib.figure.Figure at 0x13e7c128>"
      ]
     },
     "metadata": {},
     "output_type": "display_data"
    }
   ],
   "source": [
    "fig = plt.gcf()\n",
    "fig.set_size_inches(18.5, 10.5, forward=True)\n",
    "plt.imshow(mm, cmap=plt.cm.hot)\n",
    "plt.colorbar()\n",
    "plt.show()"
   ]
  },
  {
   "cell_type": "code",
   "execution_count": 10,
   "metadata": {
    "collapsed": false
   },
   "outputs": [
    {
     "data": {
      "image/png": "[encoded data removed]",
      "text/plain": [
       "<matplotlib.figure.Figure at 0xcce7320>"
      ]
     },
     "metadata": {},
     "output_type": "display_data"
    }
   ],
   "source": [
    "import numpy as np\n",
    "l=lsi_df.weight\n",
    "hist=plt.hist(l,101)"
   ]
  },
  {
   "cell_type": "code",
   "execution_count": 11,
   "metadata": {
    "collapsed": false
   },
   "outputs": [
    {
     "data": {
      "text/plain": [
       "<matplotlib.axes._subplots.AxesSubplot at 0x13031ef0>"
      ]
     },
     "execution_count": 11,
     "metadata": {},
     "output_type": "execute_result"
    },
    {
     "data": {
      "image/png": "[encoded data removed]",
      "text/plain": [
       "<matplotlib.figure.Figure at 0x1386e9e8>"
      ]
     },
     "metadata": {},
     "output_type": "display_data"
    }
   ],
   "source": [
    "l=l.sort_values()\n",
    "l=l.reset_index(drop=True)\n",
    "l.plot(drawstyle='steps')"
   ]
  },
  {
   "cell_type": "code",
   "execution_count": 12,
   "metadata": {
    "collapsed": false
   },
   "outputs": [
    {
     "data": {
      "text/plain": [
       "<matplotlib.axes._subplots.AxesSubplot at 0x13b31470>"
      ]
     },
     "execution_count": 12,
     "metadata": {},
     "output_type": "execute_result"
    },
    {
     "data": {
      "image/png": "[encoded data removed]",
      "text/plain": [
       "<matplotlib.figure.Figure at 0x134eb588>"
      ]
     },
     "metadata": {},
     "output_type": "display_data"
    }
   ],
   "source": [
    "cum_dist = np.linspace(0.,1.,len(l))\n",
    "cdf = pd.Series(cum_dist, index=l)\n",
    "cdf.plot()"
   ]
  },
  {
   "cell_type": "code",
   "execution_count": 13,
   "metadata": {
    "collapsed": false
   },
   "outputs": [],
   "source": [
    "dic=cdf.to_dict()\n",
    "lsi_df['p']=lsi_df.weight.apply(lambda x :1- dic[x])"
   ]
  },
  {
   "cell_type": "code",
   "execution_count": 14,
   "metadata": {
    "collapsed": false
   },
   "outputs": [
    {
     "data": {
      "image/png": "[encoded data removed]",
      "text/plain": [
       "<matplotlib.figure.Figure at 0x1382c780>"
      ]
     },
     "metadata": {},
     "output_type": "display_data"
    }
   ],
   "source": [
    "p=lsi_df.p\n",
    "binwidth=.01\n",
    "hist=plt.hist(p,50 )"
   ]
  },
  {
   "cell_type": "code",
   "execution_count": 15,
   "metadata": {
    "collapsed": false
   },
   "outputs": [
    {
     "data": {
      "text/plain": [
       "<matplotlib.axes._subplots.AxesSubplot at 0x140d0860>"
      ]
     },
     "execution_count": 15,
     "metadata": {},
     "output_type": "execute_result"
    },
    {
     "data": {
      "image/png": "[encoded data removed]",
      "text/plain": [
       "<matplotlib.figure.Figure at 0x1382c0b8>"
      ]
     },
     "metadata": {},
     "output_type": "display_data"
    }
   ],
   "source": [
    "p=lsi_df.p\n",
    "p=p.sort_values()\n",
    "p=p.reset_index(drop=True)\n",
    "p.plot(drawstyle='steps')"
   ]
  },
  {
   "cell_type": "code",
   "execution_count": 16,
   "metadata": {
    "collapsed": false,
    "scrolled": true
   },
   "outputs": [],
   "source": [
    "lsi_df['original_weight']=lsi_df.weight\n",
    "lsi_df.drop('weight',inplace=True,axis=1)\n",
    "lsi_df['weight']=1-lsi_df.p\n",
    "lsi_df[['source','target','weight','type']].to_csv('../csv/p_lsi.csv',index=False)"
   ]
  },
  {
   "cell_type": "code",
   "execution_count": 17,
   "metadata": {
    "collapsed": false,
    "scrolled": true
   },
   "outputs": [
    {
     "data": {
      "text/plain": [
       "(24434, 6)"
      ]
     },
     "execution_count": 17,
     "metadata": {},
     "output_type": "execute_result"
    }
   ],
   "source": [
    "lsi_df.shape"
   ]
  },
  {
   "cell_type": "code",
   "execution_count": 48,
   "metadata": {
    "collapsed": false
   },
   "outputs": [
    {
     "data": {
      "text/html": [
       "<div>\n",
       "<table border=\"1\" class=\"dataframe\">\n",
       "  <thead>\n",
       "    <tr style=\"text-align: right;\">\n",
       "      <th></th>\n",
       "      <th>Unnamed: 0</th>\n",
       "      <th>﻿PT</th>\n",
       "      <th>AU</th>\n",
       "      <th>BA</th>\n",
       "      <th>BE</th>\n",
       "      <th>GP</th>\n",
       "      <th>AF</th>\n",
       "      <th>BF</th>\n",
       "      <th>CA</th>\n",
       "      <th>TI</th>\n",
       "      <th>SO</th>\n",
       "      <th>SE</th>\n",
       "      <th>BS</th>\n",
       "      <th>LA</th>\n",
       "      <th>DT</th>\n",
       "      <th>CT</th>\n",
       "      <th>CY</th>\n",
       "      <th>CL</th>\n",
       "      <th>SP</th>\n",
       "      <th>HO</th>\n",
       "      <th>DE</th>\n",
       "      <th>ID</th>\n",
       "      <th>AB</th>\n",
       "      <th>C1</th>\n",
       "      <th>RP</th>\n",
       "      <th>EM</th>\n",
       "      <th>RI</th>\n",
       "      <th>OI</th>\n",
       "      <th>FU</th>\n",
       "      <th>FX</th>\n",
       "      <th>CR</th>\n",
       "      <th>NR</th>\n",
       "      <th>TC</th>\n",
       "      <th>Z9</th>\n",
       "      <th>U1</th>\n",
       "      <th>U2</th>\n",
       "      <th>PU</th>\n",
       "      <th>PI</th>\n",
       "      <th>PA</th>\n",
       "      <th>SN</th>\n",
       "      <th>EI</th>\n",
       "      <th>BN</th>\n",
       "      <th>J9</th>\n",
       "      <th>JI</th>\n",
       "      <th>PD</th>\n",
       "      <th>PY</th>\n",
       "      <th>VL</th>\n",
       "      <th>IS</th>\n",
       "      <th>PN</th>\n",
       "      <th>SU</th>\n",
       "      <th>SI</th>\n",
       "      <th>MA</th>\n",
       "      <th>BP</th>\n",
       "      <th>EP</th>\n",
       "      <th>AR</th>\n",
       "      <th>DI</th>\n",
       "      <th>D2</th>\n",
       "      <th>PG</th>\n",
       "      <th>WC</th>\n",
       "      <th>SC</th>\n",
       "      <th>GA</th>\n",
       "      <th>UT</th>\n",
       "      <th>PM</th>\n",
       "      <th>id</th>\n",
       "      <th>doc</th>\n",
       "    </tr>\n",
       "  </thead>\n",
       "  <tbody>\n",
       "    <tr>\n",
       "      <th>341</th>\n",
       "      <td>341</td>\n",
       "      <td>J</td>\n",
       "      <td>Lahiri, A; Dewan, RM; Freimer, M</td>\n",
       "      <td>NaN</td>\n",
       "      <td>NaN</td>\n",
       "      <td>NaN</td>\n",
       "      <td>Lahiri, Atanu; Dewan, Rajiv M.; Freimer, Marshall</td>\n",
       "      <td>NaN</td>\n",
       "      <td>NaN</td>\n",
       "      <td>The Disruptive Effect of Open Platforms on Mar...</td>\n",
       "      <td>JOURNAL OF MANAGEMENT INFORMATION SYSTEMS</td>\n",
       "      <td>NaN</td>\n",
       "      <td>NaN</td>\n",
       "      <td>English</td>\n",
       "      <td>Article</td>\n",
       "      <td>NaN</td>\n",
       "      <td>NaN</td>\n",
       "      <td>NaN</td>\n",
       "      <td>NaN</td>\n",
       "      <td>NaN</td>\n",
       "      <td>net neutrality; nonlinear pricing; open platfo...</td>\n",
       "      <td>INFORMATION GOODS; MONOPOLY</td>\n",
       "      <td>Application-based pricing is common in telecom...</td>\n",
       "      <td>[Lahiri, Atanu] Univ Washington, Foster Sch Bu...</td>\n",
       "      <td>Lahiri, A (reprint author), Univ Washington, F...</td>\n",
       "      <td>NaN</td>\n",
       "      <td>NaN</td>\n",
       "      <td>NaN</td>\n",
       "      <td>NaN</td>\n",
       "      <td>NaN</td>\n",
       "      <td>ADAMS WJ, 1976, Q J ECON, V90, P475, DOI 10.23...</td>\n",
       "      <td>17</td>\n",
       "      <td>1</td>\n",
       "      <td>1</td>\n",
       "      <td>2</td>\n",
       "      <td>12</td>\n",
       "      <td>M E SHARPE INC</td>\n",
       "      <td>ARMONK</td>\n",
       "      <td>80 BUSINESS PARK DR, ARMONK, NY 10504 USA</td>\n",
       "      <td>0742-1222</td>\n",
       "      <td>1557-928X</td>\n",
       "      <td>NaN</td>\n",
       "      <td>J MANAGE INFORM SYST</td>\n",
       "      <td>J. Manage. Inform. Syst.</td>\n",
       "      <td>WIN</td>\n",
       "      <td>2010</td>\n",
       "      <td>27</td>\n",
       "      <td>3.0</td>\n",
       "      <td>NaN</td>\n",
       "      <td>NaN</td>\n",
       "      <td>NaN</td>\n",
       "      <td>NaN</td>\n",
       "      <td>81</td>\n",
       "      <td>109</td>\n",
       "      <td>NaN</td>\n",
       "      <td>10.2753/MIS0742-1222270304</td>\n",
       "      <td>NaN</td>\n",
       "      <td>29</td>\n",
       "      <td>Computer Science, Information Systems; Informa...</td>\n",
       "      <td>Computer Science; Information Science &amp; Librar...</td>\n",
       "      <td>738JC</td>\n",
       "      <td>WOS:000288635100005</td>\n",
       "      <td>NaN</td>\n",
       "      <td>341</td>\n",
       "      <td>Application-based pricing is common in telecom...</td>\n",
       "    </tr>\n",
       "  </tbody>\n",
       "</table>\n",
       "</div>"
      ],
      "text/plain": [
       "     Unnamed: 0 ﻿PT                                AU  BA  BE  GP  \\\n",
       "341         341   J  Lahiri, A; Dewan, RM; Freimer, M NaN NaN NaN   \n",
       "\n",
       "                                                    AF  BF  CA  \\\n",
       "341  Lahiri, Atanu; Dewan, Rajiv M.; Freimer, Marshall NaN NaN   \n",
       "\n",
       "                                                    TI  \\\n",
       "341  The Disruptive Effect of Open Platforms on Mar...   \n",
       "\n",
       "                                            SO  SE  BS       LA       DT   CT  \\\n",
       "341  JOURNAL OF MANAGEMENT INFORMATION SYSTEMS NaN NaN  English  Article  NaN   \n",
       "\n",
       "      CY   CL   SP   HO                                                 DE  \\\n",
       "341  NaN  NaN  NaN  NaN  net neutrality; nonlinear pricing; open platfo...   \n",
       "\n",
       "                              ID  \\\n",
       "341  INFORMATION GOODS; MONOPOLY   \n",
       "\n",
       "                                                    AB  \\\n",
       "341  Application-based pricing is common in telecom...   \n",
       "\n",
       "                                                    C1  \\\n",
       "341  [Lahiri, Atanu] Univ Washington, Foster Sch Bu...   \n",
       "\n",
       "                                                    RP   EM   RI   OI   FU  \\\n",
       "341  Lahiri, A (reprint author), Univ Washington, F...  NaN  NaN  NaN  NaN   \n",
       "\n",
       "      FX                                                 CR  NR  TC  Z9  U1  \\\n",
       "341  NaN  ADAMS WJ, 1976, Q J ECON, V90, P475, DOI 10.23...  17   1   1   2   \n",
       "\n",
       "     U2              PU      PI                                         PA  \\\n",
       "341  12  M E SHARPE INC  ARMONK  80 BUSINESS PARK DR, ARMONK, NY 10504 USA   \n",
       "\n",
       "            SN         EI  BN                    J9                        JI  \\\n",
       "341  0742-1222  1557-928X NaN  J MANAGE INFORM SYST  J. Manage. Inform. Syst.   \n",
       "\n",
       "      PD    PY  VL   IS  PN  SU   SI  MA  BP   EP  AR  \\\n",
       "341  WIN  2010  27  3.0 NaN NaN  NaN NaN  81  109 NaN   \n",
       "\n",
       "                             DI  D2  PG  \\\n",
       "341  10.2753/MIS0742-1222270304 NaN  29   \n",
       "\n",
       "                                                    WC  \\\n",
       "341  Computer Science, Information Systems; Informa...   \n",
       "\n",
       "                                                    SC     GA  \\\n",
       "341  Computer Science; Information Science & Librar...  738JC   \n",
       "\n",
       "                      UT  PM   id  \\\n",
       "341  WOS:000288635100005 NaN  341   \n",
       "\n",
       "                                                   doc  \n",
       "341  Application-based pricing is common in telecom...  "
      ]
     },
     "execution_count": 48,
     "metadata": {},
     "output_type": "execute_result"
    }
   ],
   "source": [
    "df[df.index==341]"
   ]
  },
  {
   "cell_type": "code",
   "execution_count": 47,
   "metadata": {
    "collapsed": false
   },
   "outputs": [
    {
     "data": {
      "text/html": [
       "<div>\n",
       "<table border=\"1\" class=\"dataframe\">\n",
       "  <thead>\n",
       "    <tr style=\"text-align: right;\">\n",
       "      <th></th>\n",
       "      <th>Unnamed: 0</th>\n",
       "      <th>﻿PT</th>\n",
       "      <th>AU</th>\n",
       "      <th>BA</th>\n",
       "      <th>BE</th>\n",
       "      <th>GP</th>\n",
       "      <th>AF</th>\n",
       "      <th>BF</th>\n",
       "      <th>CA</th>\n",
       "      <th>TI</th>\n",
       "      <th>SO</th>\n",
       "      <th>SE</th>\n",
       "      <th>BS</th>\n",
       "      <th>LA</th>\n",
       "      <th>DT</th>\n",
       "      <th>CT</th>\n",
       "      <th>CY</th>\n",
       "      <th>CL</th>\n",
       "      <th>SP</th>\n",
       "      <th>HO</th>\n",
       "      <th>DE</th>\n",
       "      <th>ID</th>\n",
       "      <th>AB</th>\n",
       "      <th>C1</th>\n",
       "      <th>RP</th>\n",
       "      <th>EM</th>\n",
       "      <th>RI</th>\n",
       "      <th>OI</th>\n",
       "      <th>FU</th>\n",
       "      <th>FX</th>\n",
       "      <th>CR</th>\n",
       "      <th>NR</th>\n",
       "      <th>TC</th>\n",
       "      <th>Z9</th>\n",
       "      <th>U1</th>\n",
       "      <th>U2</th>\n",
       "      <th>PU</th>\n",
       "      <th>PI</th>\n",
       "      <th>PA</th>\n",
       "      <th>SN</th>\n",
       "      <th>EI</th>\n",
       "      <th>BN</th>\n",
       "      <th>J9</th>\n",
       "      <th>JI</th>\n",
       "      <th>PD</th>\n",
       "      <th>PY</th>\n",
       "      <th>VL</th>\n",
       "      <th>IS</th>\n",
       "      <th>PN</th>\n",
       "      <th>SU</th>\n",
       "      <th>SI</th>\n",
       "      <th>MA</th>\n",
       "      <th>BP</th>\n",
       "      <th>EP</th>\n",
       "      <th>AR</th>\n",
       "      <th>DI</th>\n",
       "      <th>D2</th>\n",
       "      <th>PG</th>\n",
       "      <th>WC</th>\n",
       "      <th>SC</th>\n",
       "      <th>GA</th>\n",
       "      <th>UT</th>\n",
       "      <th>PM</th>\n",
       "      <th>id</th>\n",
       "      <th>doc</th>\n",
       "    </tr>\n",
       "  </thead>\n",
       "  <tbody>\n",
       "    <tr>\n",
       "      <th>2089</th>\n",
       "      <td>2089</td>\n",
       "      <td>J</td>\n",
       "      <td>Lahiri, A; Dewan, RM; Freimer, M</td>\n",
       "      <td>NaN</td>\n",
       "      <td>NaN</td>\n",
       "      <td>NaN</td>\n",
       "      <td>Lahiri, Atanu; Dewan, Rajiv M.; Freimer, Marshall</td>\n",
       "      <td>NaN</td>\n",
       "      <td>NaN</td>\n",
       "      <td>Pricing of Wireless Services: Service Pricing ...</td>\n",
       "      <td>INFORMATION SYSTEMS RESEARCH</td>\n",
       "      <td>NaN</td>\n",
       "      <td>NaN</td>\n",
       "      <td>English</td>\n",
       "      <td>Article</td>\n",
       "      <td>NaN</td>\n",
       "      <td>NaN</td>\n",
       "      <td>NaN</td>\n",
       "      <td>NaN</td>\n",
       "      <td>NaN</td>\n",
       "      <td>nonlinear pricing; second-degree discriminatio...</td>\n",
       "      <td>INFORMATION GOODS; MONOPOLY; WELFARE; DISCRIMI...</td>\n",
       "      <td>As the ability to measure technology resource ...</td>\n",
       "      <td>[Lahiri, Atanu] Univ Washington, Michael G Fos...</td>\n",
       "      <td>Lahiri, A (reprint author), Univ Washington, M...</td>\n",
       "      <td>lahiria@uw.edu; dewan@simon.rochester.edu; fre...</td>\n",
       "      <td>NaN</td>\n",
       "      <td>NaN</td>\n",
       "      <td>NaN</td>\n",
       "      <td>NaN</td>\n",
       "      <td>ADAMS WJ, 1976, Q J ECON, V90, P475, DOI 10.23...</td>\n",
       "      <td>38</td>\n",
       "      <td>6</td>\n",
       "      <td>6</td>\n",
       "      <td>2</td>\n",
       "      <td>25</td>\n",
       "      <td>INFORMS</td>\n",
       "      <td>CATONSVILLE</td>\n",
       "      <td>5521 RESEARCH PARK DR, SUITE 200, CATONSVILLE,...</td>\n",
       "      <td>1047-7047</td>\n",
       "      <td>1526-5536</td>\n",
       "      <td>NaN</td>\n",
       "      <td>INFORM SYST RES</td>\n",
       "      <td>Inf. Syst. Res.</td>\n",
       "      <td>JUN</td>\n",
       "      <td>2013</td>\n",
       "      <td>24</td>\n",
       "      <td>2.0</td>\n",
       "      <td>NaN</td>\n",
       "      <td>NaN</td>\n",
       "      <td>NaN</td>\n",
       "      <td>NaN</td>\n",
       "      <td>418</td>\n",
       "      <td>435</td>\n",
       "      <td>NaN</td>\n",
       "      <td>10.1287/isre.1120.0434</td>\n",
       "      <td>NaN</td>\n",
       "      <td>18</td>\n",
       "      <td>Information Science &amp; Library Science; Management</td>\n",
       "      <td>Information Science &amp; Library Science; Busines...</td>\n",
       "      <td>156YS</td>\n",
       "      <td>WOS:000319861400012</td>\n",
       "      <td>NaN</td>\n",
       "      <td>2089</td>\n",
       "      <td>As the ability to measure technology resource ...</td>\n",
       "    </tr>\n",
       "  </tbody>\n",
       "</table>\n",
       "</div>"
      ],
      "text/plain": [
       "      Unnamed: 0 ﻿PT                                AU  BA  BE  GP  \\\n",
       "2089        2089   J  Lahiri, A; Dewan, RM; Freimer, M NaN NaN NaN   \n",
       "\n",
       "                                                     AF  BF  CA  \\\n",
       "2089  Lahiri, Atanu; Dewan, Rajiv M.; Freimer, Marshall NaN NaN   \n",
       "\n",
       "                                                     TI  \\\n",
       "2089  Pricing of Wireless Services: Service Pricing ...   \n",
       "\n",
       "                                SO  SE  BS       LA       DT   CT   CY   CL  \\\n",
       "2089  INFORMATION SYSTEMS RESEARCH NaN NaN  English  Article  NaN  NaN  NaN   \n",
       "\n",
       "       SP   HO                                                 DE  \\\n",
       "2089  NaN  NaN  nonlinear pricing; second-degree discriminatio...   \n",
       "\n",
       "                                                     ID  \\\n",
       "2089  INFORMATION GOODS; MONOPOLY; WELFARE; DISCRIMI...   \n",
       "\n",
       "                                                     AB  \\\n",
       "2089  As the ability to measure technology resource ...   \n",
       "\n",
       "                                                     C1  \\\n",
       "2089  [Lahiri, Atanu] Univ Washington, Michael G Fos...   \n",
       "\n",
       "                                                     RP  \\\n",
       "2089  Lahiri, A (reprint author), Univ Washington, M...   \n",
       "\n",
       "                                                     EM   RI   OI   FU   FX  \\\n",
       "2089  lahiria@uw.edu; dewan@simon.rochester.edu; fre...  NaN  NaN  NaN  NaN   \n",
       "\n",
       "                                                     CR  NR  TC  Z9  U1  U2  \\\n",
       "2089  ADAMS WJ, 1976, Q J ECON, V90, P475, DOI 10.23...  38   6   6   2  25   \n",
       "\n",
       "           PU           PI                                                 PA  \\\n",
       "2089  INFORMS  CATONSVILLE  5521 RESEARCH PARK DR, SUITE 200, CATONSVILLE,...   \n",
       "\n",
       "             SN         EI  BN               J9               JI   PD    PY  \\\n",
       "2089  1047-7047  1526-5536 NaN  INFORM SYST RES  Inf. Syst. Res.  JUN  2013   \n",
       "\n",
       "      VL   IS  PN  SU   SI  MA   BP   EP  AR                      DI  D2  PG  \\\n",
       "2089  24  2.0 NaN NaN  NaN NaN  418  435 NaN  10.1287/isre.1120.0434 NaN  18   \n",
       "\n",
       "                                                     WC  \\\n",
       "2089  Information Science & Library Science; Management   \n",
       "\n",
       "                                                     SC     GA  \\\n",
       "2089  Information Science & Library Science; Busines...  156YS   \n",
       "\n",
       "                       UT  PM    id  \\\n",
       "2089  WOS:000319861400012 NaN  2089   \n",
       "\n",
       "                                                    doc  \n",
       "2089  As the ability to measure technology resource ...  "
      ]
     },
     "execution_count": 47,
     "metadata": {},
     "output_type": "execute_result"
    }
   ],
   "source": [
    "df[df.index==2089]"
   ]
  },
  {
   "cell_type": "code",
   "execution_count": null,
   "metadata": {
    "collapsed": true
   },
   "outputs": [],
   "source": []
  }
 ],
 "metadata": {
  "anaconda-cloud": {},
  "kernelspec": {
   "display_name": "Python [Root]",
   "language": "python",
   "name": "Python [Root]"
  },
  "language_info": {
   "codemirror_mode": {
    "name": "ipython",
    "version": 2
   },
   "file_extension": ".py",
   "mimetype": "text/x-python",
   "name": "python",
   "nbconvert_exporter": "python",
   "pygments_lexer": "ipython2",
   "version": "2.7.12"
  }
 },
 "nbformat": 4,
 "nbformat_minor": 0
}
