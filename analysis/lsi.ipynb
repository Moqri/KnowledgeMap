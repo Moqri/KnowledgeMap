{
 "cells": [
  {
   "cell_type": "code",
   "execution_count": 72,
   "metadata": {
    "collapsed": false
   },
   "outputs": [],
   "source": [
    "in_path =r'../../data/clean/' # use your path\n",
    "out_path=r'../../data/clean/'\n",
    "\n",
    "import pandas as pd\n",
    "pd.set_option('display.max_columns', 500)\n",
    "import glob\n",
    "import re\n",
    "from nltk import stem\n",
    "porter = stem.porter.PorterStemmer()\n",
    "from gensim import corpora, models, similarities\n",
    "import matplotlib.pyplot as plt\n",
    "%matplotlib inline"
   ]
  },
  {
   "cell_type": "code",
   "execution_count": 73,
   "metadata": {
    "collapsed": false
   },
   "outputs": [],
   "source": [
    "    df=pd.read_csv(in_path+\"articles.csv\")   \n",
    "    docs_csv=out_path+\"docs.csv\"\n",
    "    df.AB.to_csv(docs_csv, index=False)\n",
    "    \n",
    "    with open(docs_csv) as f:\n",
    "        docs = f.readlines()"
   ]
  },
  {
   "cell_type": "code",
   "execution_count": 74,
   "metadata": {
    "collapsed": false
   },
   "outputs": [],
   "source": [
    "    docs_prepared=out_path+'docs_prepared.csv'\n",
    "    stop= open ('stopList.txt').read()\n",
    "    stop_list = set(stop.replace(\"\\n\", \" \").split())\n",
    "    docs_cleaned = [[re.sub('[.!,;?()\\W\\d]+', '', word) for word in doc.lower().split()] for doc in docs]\n",
    "    docs_stemed = [[porter.stem(word) for word in document if word not in stop_list] for document in docs_cleaned]\n",
    "    with open(docs_prepared, 'w') as f:\n",
    "        for doc in docs_stemed:f.write(\"%s\\n\" % ' '.join(doc))        "
   ]
  },
  {
   "cell_type": "code",
   "execution_count": 75,
   "metadata": {
    "collapsed": false
   },
   "outputs": [
    {
     "name": "stdout",
     "output_type": "stream",
     "text": [
      "Dictionary(2545 unique tokens: [u'', u'assimil', u'interchang', u'payoff', u'disappear']...)\n",
      "MmCorpus(2101 documents, 2545 features, 123380 non-zero entries)\n"
     ]
    }
   ],
   "source": [
    "dictionary = corpora.Dictionary(docs_stemed)\n",
    "dictionary.filter_extremes(no_below=5)\n",
    "dictionary.compactify() \n",
    "print dictionary\n",
    "\n",
    "class MyCorpus(object):\n",
    "    def __iter__(self):\n",
    "        for doc in docs_stemed:\n",
    "            yield dictionary.doc2bow(doc)\n",
    "corpus= MyCorpus() \n",
    "corpora.MmCorpus.serialize('deerwester.mm', corpus)\n",
    "corpus = corpora.MmCorpus('deerwester.mm')\n",
    "print corpus"
   ]
  },
  {
   "cell_type": "code",
   "execution_count": 76,
   "metadata": {
    "collapsed": false
   },
   "outputs": [
    {
     "name": "stderr",
     "output_type": "stream",
     "text": [
      "Traceback (most recent call last):\n",
      "  File \"C:\\Users\\moqri\\AppData\\Local\\Continuum\\Anaconda2\\lib\\logging\\__init__.py\", line 885, in emit\n",
      "    self.flush()\n",
      "  File \"C:\\Users\\moqri\\AppData\\Local\\Continuum\\Anaconda2\\lib\\logging\\__init__.py\", line 845, in flush\n",
      "    self.stream.flush()\n",
      "IOError: [Errno 22] Invalid argument\n",
      "Logged from file docsim.py, line 484\n"
     ]
    }
   ],
   "source": [
    "    tfidf = models.tfidfmodel.TfidfModel(corpus)\n",
    "    corpus_tfidf = tfidf[corpus]\n",
    "    lsi = models.LsiModel(corpus_tfidf, id2word=dictionary, num_topics=100) \n",
    "    corpus_lsi=lsi[corpus_tfidf]\n",
    "\n",
    "    index = similarities.MatrixSimilarity(corpus_lsi) \n",
    "    lines = docs_stemed\n",
    "    sims = open('..\\csv\\lsi.csv', 'w')\n",
    "    sims.write('source,target,weight,type\\n')\n",
    "    for i in range(len(docs_stemed)):\n",
    "        doc=lines[i]    \n",
    "        vec_bow = dictionary.doc2bow(doc)\n",
    "        vec_tran = lsi[tfidf[vec_bow]]\n",
    "        #vec_tran = lda[tfidf[vec_bow]]\n",
    "        simsinx = index[vec_tran]\n",
    "        for j in range(i+1,len(simsinx)):\n",
    "            if simsinx[j]>.4:                                        \n",
    "                sims.write(str(i)+','+str(j)+','+str(simsinx[j])+',undirected\\n')\n",
    "    sims.close()"
   ]
  },
  {
   "cell_type": "code",
   "execution_count": 86,
   "metadata": {
    "collapsed": false
   },
   "outputs": [
    {
     "data": {
      "text/plain": [
       "(21621, 4)"
      ]
     },
     "execution_count": 86,
     "metadata": {},
     "output_type": "execute_result"
    }
   ],
   "source": [
    "lsi_df=pd.read_csv('..\\csv\\lsi.csv')\n",
    "lsi_df=lsi_df[lsi_df.weight>.5]\n",
    "lsi_df.shape"
   ]
  },
  {
   "cell_type": "code",
   "execution_count": 87,
   "metadata": {
    "collapsed": false
   },
   "outputs": [
    {
     "data": {
      "image/png": "[encoded data removed]",
      "text/plain": [
       "<matplotlib.figure.Figure at 0x20e7f160>"
      ]
     },
     "metadata": {},
     "output_type": "display_data"
    }
   ],
   "source": [
    "import numpy as np\n",
    "l=lsi_df.weight\n",
    "hist=plt.hist(l,101)"
   ]
  },
  {
   "cell_type": "code",
   "execution_count": 88,
   "metadata": {
    "collapsed": false
   },
   "outputs": [
    {
     "data": {
      "text/plain": [
       "<matplotlib.axes._subplots.AxesSubplot at 0x1726dac8>"
      ]
     },
     "execution_count": 88,
     "metadata": {},
     "output_type": "execute_result"
    },
    {
     "data": {
      "image/png": "[encoded data removed]",
      "text/plain": [
       "<matplotlib.figure.Figure at 0x1f8e75f8>"
      ]
     },
     "metadata": {},
     "output_type": "display_data"
    }
   ],
   "source": [
    "l=l.sort_values()\n",
    "l=l.reset_index(drop=True)\n",
    "l.plot(drawstyle='steps')"
   ]
  },
  {
   "cell_type": "code",
   "execution_count": 89,
   "metadata": {
    "collapsed": false
   },
   "outputs": [
    {
     "data": {
      "text/plain": [
       "<matplotlib.axes._subplots.AxesSubplot at 0xecc59b0>"
      ]
     },
     "execution_count": 89,
     "metadata": {},
     "output_type": "execute_result"
    },
    {
     "data": {
      "image/png": "[encoded data removed]",
      "text/plain": [
       "<matplotlib.figure.Figure at 0xd3a7c88>"
      ]
     },
     "metadata": {},
     "output_type": "display_data"
    }
   ],
   "source": [
    "cum_dist = np.linspace(0.,1.,len(l))\n",
    "cdf = pd.Series(cum_dist, index=l)\n",
    "cdf.plot()"
   ]
  },
  {
   "cell_type": "code",
   "execution_count": 90,
   "metadata": {
    "collapsed": false
   },
   "outputs": [],
   "source": [
    "dic=cdf.to_dict()\n",
    "lsi_df['p']=lsi_df.weight.apply(lambda x :1- dic[x])"
   ]
  },
  {
   "cell_type": "code",
   "execution_count": 91,
   "metadata": {
    "collapsed": false
   },
   "outputs": [
    {
     "data": {
      "image/png": "[encoded data removed]",
      "text/plain": [
       "<matplotlib.figure.Figure at 0x10a74f28>"
      ]
     },
     "metadata": {},
     "output_type": "display_data"
    }
   ],
   "source": [
    "p=lsi_df.p\n",
    "binwidth=.01\n",
    "hist=plt.hist(p,50 )"
   ]
  },
  {
   "cell_type": "code",
   "execution_count": 92,
   "metadata": {
    "collapsed": false
   },
   "outputs": [
    {
     "data": {
      "text/plain": [
       "<matplotlib.axes._subplots.AxesSubplot at 0x1b123a58>"
      ]
     },
     "execution_count": 92,
     "metadata": {},
     "output_type": "execute_result"
    },
    {
     "data": {
      "image/png": "[encoded data removed]",
      "text/plain": [
       "<matplotlib.figure.Figure at 0xd3f5358>"
      ]
     },
     "metadata": {},
     "output_type": "display_data"
    }
   ],
   "source": [
    "p=lsi_df.p\n",
    "p=p.sort_values()\n",
    "p=p.reset_index(drop=True)\n",
    "p.plot(drawstyle='steps')"
   ]
  },
  {
   "cell_type": "code",
   "execution_count": 93,
   "metadata": {
    "collapsed": false,
    "scrolled": true
   },
   "outputs": [],
   "source": [
    "lsi_df['original_weight']=lsi_df.weight\n",
    "lsi_df.drop('weight',inplace=True,axis=1)\n",
    "lsi_df['weight']=1-lsi_df.p\n",
    "lsi_df[['source','target','weight','type']].to_csv('..\\csv\\p_lsi.csv',index=False)"
   ]
  },
  {
   "cell_type": "code",
   "execution_count": 94,
   "metadata": {
    "collapsed": false,
    "scrolled": true
   },
   "outputs": [
    {
     "data": {
      "text/plain": [
       "(21621, 6)"
      ]
     },
     "execution_count": 94,
     "metadata": {},
     "output_type": "execute_result"
    }
   ],
   "source": [
    "lsi_df.shape"
   ]
  },
  {
   "cell_type": "code",
   "execution_count": null,
   "metadata": {
    "collapsed": true
   },
   "outputs": [],
   "source": []
  }
 ],
 "metadata": {
  "anaconda-cloud": {},
  "kernelspec": {
   "display_name": "Python [Root]",
   "language": "python",
   "name": "Python [Root]"
  },
  "language_info": {
   "codemirror_mode": {
    "name": "ipython",
    "version": 2
   },
   "file_extension": ".py",
   "mimetype": "text/x-python",
   "name": "python",
   "nbconvert_exporter": "python",
   "pygments_lexer": "ipython2",
   "version": "2.7.12"
  }
 },
 "nbformat": 4,
 "nbformat_minor": 0
}
