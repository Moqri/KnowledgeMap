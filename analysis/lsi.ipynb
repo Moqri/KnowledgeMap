{
 "cells": [
  {
   "cell_type": "code",
   "execution_count": 3,
   "metadata": {
    "collapsed": false
   },
   "outputs": [],
   "source": [
    "in_path =r'../../data/clean/' # use your path\n",
    "out_path=r'../../data/clean/'\n",
    "\n",
    "import pandas as pd\n",
    "pd.set_option('display.max_columns', 500)\n",
    "import glob\n",
    "import re\n",
    "from nltk import stem\n",
    "porter = stem.porter.PorterStemmer()\n",
    "from gensim import corpora, models, similarities\n",
    "import matplotlib.pyplot as plt\n",
    "%matplotlib inline"
   ]
  },
  {
   "cell_type": "code",
   "execution_count": 4,
   "metadata": {
    "collapsed": false
   },
   "outputs": [],
   "source": [
    "    df=pd.read_csv(in_path+\"articles.csv\")   \n",
    "    df.DE.fillna('',inplace=True)\n",
    "    df['doc']=df.AB+'. '+df.TI+'. '+df.DE"
   ]
  },
  {
   "cell_type": "code",
   "execution_count": 5,
   "metadata": {
    "collapsed": true
   },
   "outputs": [],
   "source": [
    "    docs_csv=out_path+\"docs.csv\"\n",
    "    df.doc.to_csv(docs_csv, index=False)\n",
    "    \n",
    "    with open(docs_csv) as f:\n",
    "        docs = f.readlines()"
   ]
  },
  {
   "cell_type": "code",
   "execution_count": 6,
   "metadata": {
    "collapsed": false
   },
   "outputs": [],
   "source": [
    "    docs_cleaned = [[re.sub('[.!,;?()\\W\\d]+', '', word) for word in doc.lower().split()] for doc in docs]\n",
    "    stop= open ('stopList.txt').read()\n",
    "    stop_list = set(stop.replace(\"\\n\", \" \").split())\n",
    "    docs_stemed = [[porter.stem(word) for word in document if word not in stop_list] for document in docs_cleaned]\n",
    "    docs_prepared=out_path+'docs_prepared.csv'\n",
    "    with open(docs_prepared, 'w') as f:\n",
    "        for doc in docs_stemed:f.write(\"%s\\n\" % ' '.join(doc))        "
   ]
  },
  {
   "cell_type": "code",
   "execution_count": 7,
   "metadata": {
    "collapsed": false
   },
   "outputs": [
    {
     "name": "stdout",
     "output_type": "stream",
     "text": [
      "Dictionary(2634 unique tokens: [u'', u'assimil', u'interchang', u'articul', u'payoff']...)\n",
      "MmCorpus(2101 documents, 2634 features, 130884 non-zero entries)\n"
     ]
    }
   ],
   "source": [
    "dictionary = corpora.Dictionary(docs_stemed)\n",
    "dictionary.filter_extremes(no_below=5)\n",
    "dictionary.compactify() \n",
    "print dictionary\n",
    "\n",
    "class MyCorpus(object):\n",
    "    def __iter__(self):\n",
    "        for doc in docs_stemed:\n",
    "            yield dictionary.doc2bow(doc)\n",
    "corpus= MyCorpus() \n",
    "corpora.MmCorpus.serialize('serialized.mm', corpus)\n",
    "corpus = corpora.MmCorpus('serialized.mm')\n",
    "print corpus"
   ]
  },
  {
   "cell_type": "code",
   "execution_count": 8,
   "metadata": {
    "collapsed": false
   },
   "outputs": [],
   "source": [
    "    tfidf = models.tfidfmodel.TfidfModel(corpus)\n",
    "    corpus_tfidf = tfidf[corpus]\n",
    "    lsi = models.LsiModel(corpus_tfidf, id2word=dictionary, num_topics=100) \n",
    "    corpus_lsi=lsi[corpus_tfidf]\n",
    "\n",
    "    index = similarities.MatrixSimilarity(corpus_lsi) \n",
    "    lines = docs_stemed\n",
    "    sims = open('../csv/lsi.csv', 'w')\n",
    "    sims.write('source,target,weight,type\\n')\n",
    "    for i in range(len(docs_stemed)):\n",
    "        doc=lines[i]    \n",
    "        vec_bow = dictionary.doc2bow(doc)\n",
    "        vec_tran = lsi[tfidf[vec_bow]]\n",
    "        #vec_tran = lda[tfidf[vec_bow]]\n",
    "        simsinx = index[vec_tran]\n",
    "        for j in range(i+1,len(simsinx)):\n",
    "            if simsinx[j]>.5:                                        \n",
    "                sims.write(str(i)+','+str(j)+','+str(simsinx[j])+',undirected\\n')\n",
    "    sims.close()"
   ]
  },
  {
   "cell_type": "code",
   "execution_count": 9,
   "metadata": {
    "collapsed": false
   },
   "outputs": [
    {
     "data": {
      "text/plain": [
       "(24434, 4)"
      ]
     },
     "execution_count": 9,
     "metadata": {},
     "output_type": "execute_result"
    }
   ],
   "source": [
    "lsi_df=pd.read_csv('../csv/lsi.csv')\n",
    "lsi_df=lsi_df[lsi_df.weight>.5]\n",
    "lsi_df.shape"
   ]
  },
  {
   "cell_type": "code",
   "execution_count": 10,
   "metadata": {
    "collapsed": false
   },
   "outputs": [
    {
     "data": {
      "image/png": "[encoded data removed]",
      "text/plain": [
       "<matplotlib.figure.Figure at 0xcce7320>"
      ]
     },
     "metadata": {},
     "output_type": "display_data"
    }
   ],
   "source": [
    "import numpy as np\n",
    "l=lsi_df.weight\n",
    "hist=plt.hist(l,101)"
   ]
  },
  {
   "cell_type": "code",
   "execution_count": 11,
   "metadata": {
    "collapsed": false
   },
   "outputs": [
    {
     "data": {
      "text/plain": [
       "<matplotlib.axes._subplots.AxesSubplot at 0x13031ef0>"
      ]
     },
     "execution_count": 11,
     "metadata": {},
     "output_type": "execute_result"
    },
    {
     "data": {
      "image/png": "[encoded data removed]",
      "text/plain": [
       "<matplotlib.figure.Figure at 0x1386e9e8>"
      ]
     },
     "metadata": {},
     "output_type": "display_data"
    }
   ],
   "source": [
    "l=l.sort_values()\n",
    "l=l.reset_index(drop=True)\n",
    "l.plot(drawstyle='steps')"
   ]
  },
  {
   "cell_type": "code",
   "execution_count": 12,
   "metadata": {
    "collapsed": false
   },
   "outputs": [
    {
     "data": {
      "text/plain": [
       "<matplotlib.axes._subplots.AxesSubplot at 0x13b31470>"
      ]
     },
     "execution_count": 12,
     "metadata": {},
     "output_type": "execute_result"
    },
    {
     "data": {
      "image/png": "[encoded data removed]",
      "text/plain": [
       "<matplotlib.figure.Figure at 0x134eb588>"
      ]
     },
     "metadata": {},
     "output_type": "display_data"
    }
   ],
   "source": [
    "cum_dist = np.linspace(0.,1.,len(l))\n",
    "cdf = pd.Series(cum_dist, index=l)\n",
    "cdf.plot()"
   ]
  },
  {
   "cell_type": "code",
   "execution_count": 13,
   "metadata": {
    "collapsed": false
   },
   "outputs": [],
   "source": [
    "dic=cdf.to_dict()\n",
    "lsi_df['p']=lsi_df.weight.apply(lambda x :1- dic[x])"
   ]
  },
  {
   "cell_type": "code",
   "execution_count": 14,
   "metadata": {
    "collapsed": false
   },
   "outputs": [
    {
     "data": {
      "image/png": "[encoded data removed]",
      "text/plain": [
       "<matplotlib.figure.Figure at 0x1382c780>"
      ]
     },
     "metadata": {},
     "output_type": "display_data"
    }
   ],
   "source": [
    "p=lsi_df.p\n",
    "binwidth=.01\n",
    "hist=plt.hist(p,50 )"
   ]
  },
  {
   "cell_type": "code",
   "execution_count": 15,
   "metadata": {
    "collapsed": false
   },
   "outputs": [
    {
     "data": {
      "text/plain": [
       "<matplotlib.axes._subplots.AxesSubplot at 0x140d0860>"
      ]
     },
     "execution_count": 15,
     "metadata": {},
     "output_type": "execute_result"
    },
    {
     "data": {
      "image/png": "[encoded data removed]",
      "text/plain": [
       "<matplotlib.figure.Figure at 0x1382c0b8>"
      ]
     },
     "metadata": {},
     "output_type": "display_data"
    }
   ],
   "source": [
    "p=lsi_df.p\n",
    "p=p.sort_values()\n",
    "p=p.reset_index(drop=True)\n",
    "p.plot(drawstyle='steps')"
   ]
  },
  {
   "cell_type": "code",
   "execution_count": 16,
   "metadata": {
    "collapsed": false,
    "scrolled": true
   },
   "outputs": [],
   "source": [
    "lsi_df['original_weight']=lsi_df.weight\n",
    "lsi_df.drop('weight',inplace=True,axis=1)\n",
    "lsi_df['weight']=1-lsi_df.p\n",
    "lsi_df[['source','target','weight','type']].to_csv('../csv/p_lsi.csv',index=False)"
   ]
  },
  {
   "cell_type": "code",
   "execution_count": 17,
   "metadata": {
    "collapsed": false,
    "scrolled": true
   },
   "outputs": [
    {
     "data": {
      "text/plain": [
       "(24434, 6)"
      ]
     },
     "execution_count": 17,
     "metadata": {},
     "output_type": "execute_result"
    }
   ],
   "source": [
    "lsi_df.shape"
   ]
  },
  {
   "cell_type": "code",
   "execution_count": 19,
   "metadata": {
    "collapsed": false
   },
   "outputs": [
    {
     "data": {
      "text/html": [
       "<div>\n",
       "<table border=\"1\" class=\"dataframe\">\n",
       "  <thead>\n",
       "    <tr style=\"text-align: right;\">\n",
       "      <th></th>\n",
       "      <th>Unnamed: 0</th>\n",
       "      <th>﻿PT</th>\n",
       "      <th>AU</th>\n",
       "      <th>BA</th>\n",
       "      <th>BE</th>\n",
       "      <th>GP</th>\n",
       "      <th>AF</th>\n",
       "      <th>BF</th>\n",
       "      <th>CA</th>\n",
       "      <th>TI</th>\n",
       "      <th>SO</th>\n",
       "      <th>SE</th>\n",
       "      <th>BS</th>\n",
       "      <th>LA</th>\n",
       "      <th>DT</th>\n",
       "      <th>CT</th>\n",
       "      <th>CY</th>\n",
       "      <th>CL</th>\n",
       "      <th>SP</th>\n",
       "      <th>HO</th>\n",
       "      <th>DE</th>\n",
       "      <th>ID</th>\n",
       "      <th>AB</th>\n",
       "      <th>C1</th>\n",
       "      <th>RP</th>\n",
       "      <th>EM</th>\n",
       "      <th>RI</th>\n",
       "      <th>OI</th>\n",
       "      <th>FU</th>\n",
       "      <th>FX</th>\n",
       "      <th>CR</th>\n",
       "      <th>NR</th>\n",
       "      <th>TC</th>\n",
       "      <th>Z9</th>\n",
       "      <th>U1</th>\n",
       "      <th>U2</th>\n",
       "      <th>PU</th>\n",
       "      <th>PI</th>\n",
       "      <th>PA</th>\n",
       "      <th>SN</th>\n",
       "      <th>EI</th>\n",
       "      <th>BN</th>\n",
       "      <th>J9</th>\n",
       "      <th>JI</th>\n",
       "      <th>PD</th>\n",
       "      <th>PY</th>\n",
       "      <th>VL</th>\n",
       "      <th>IS</th>\n",
       "      <th>PN</th>\n",
       "      <th>SU</th>\n",
       "      <th>SI</th>\n",
       "      <th>MA</th>\n",
       "      <th>BP</th>\n",
       "      <th>EP</th>\n",
       "      <th>AR</th>\n",
       "      <th>DI</th>\n",
       "      <th>D2</th>\n",
       "      <th>PG</th>\n",
       "      <th>WC</th>\n",
       "      <th>SC</th>\n",
       "      <th>GA</th>\n",
       "      <th>UT</th>\n",
       "      <th>PM</th>\n",
       "      <th>id</th>\n",
       "      <th>doc</th>\n",
       "    </tr>\n",
       "  </thead>\n",
       "  <tbody>\n",
       "    <tr>\n",
       "      <th>1473</th>\n",
       "      <td>1473</td>\n",
       "      <td>J</td>\n",
       "      <td>Myers, MD</td>\n",
       "      <td>NaN</td>\n",
       "      <td>NaN</td>\n",
       "      <td>NaN</td>\n",
       "      <td>Myers, MD</td>\n",
       "      <td>NaN</td>\n",
       "      <td>NaN</td>\n",
       "      <td>Qualitative research in information systems</td>\n",
       "      <td>MIS QUARTERLY</td>\n",
       "      <td>NaN</td>\n",
       "      <td>NaN</td>\n",
       "      <td>English</td>\n",
       "      <td>Article</td>\n",
       "      <td>NaN</td>\n",
       "      <td>NaN</td>\n",
       "      <td>NaN</td>\n",
       "      <td>NaN</td>\n",
       "      <td>NaN</td>\n",
       "      <td>research methodology; action research; case st...</td>\n",
       "      <td>NaN</td>\n",
       "      <td>Qualitative research involves the use of quali...</td>\n",
       "      <td>NaN</td>\n",
       "      <td>Myers, MD (reprint author), UNIV AUCKLAND,DEPT...</td>\n",
       "      <td>NaN</td>\n",
       "      <td>Myers, Michael/F-9405-2010</td>\n",
       "      <td>Myers, Michael/0000-0001-8525-6395</td>\n",
       "      <td>NaN</td>\n",
       "      <td>NaN</td>\n",
       "      <td>NaN</td>\n",
       "      <td>0</td>\n",
       "      <td>237</td>\n",
       "      <td>242</td>\n",
       "      <td>6</td>\n",
       "      <td>67</td>\n",
       "      <td>SOC INFORM MANAGE-MIS RES CENT</td>\n",
       "      <td>MINNEAPOLIS</td>\n",
       "      <td>UNIV MINNESOTA-SCH MANAGEMENT 271 19TH AVE SOU...</td>\n",
       "      <td>0276-7783</td>\n",
       "      <td>NaN</td>\n",
       "      <td>NaN</td>\n",
       "      <td>MIS QUART</td>\n",
       "      <td>MIS Q.</td>\n",
       "      <td>JUN</td>\n",
       "      <td>1997</td>\n",
       "      <td>21</td>\n",
       "      <td>2.0</td>\n",
       "      <td>NaN</td>\n",
       "      <td>NaN</td>\n",
       "      <td>NaN</td>\n",
       "      <td>NaN</td>\n",
       "      <td>241</td>\n",
       "      <td>242</td>\n",
       "      <td>NaN</td>\n",
       "      <td>10.2307/249422</td>\n",
       "      <td>NaN</td>\n",
       "      <td>2</td>\n",
       "      <td>Computer Science, Information Systems; Informa...</td>\n",
       "      <td>Computer Science; Information Science &amp; Librar...</td>\n",
       "      <td>XX650</td>\n",
       "      <td>WOS:A1997XX65000008</td>\n",
       "      <td>NaN</td>\n",
       "      <td>1473</td>\n",
       "      <td>Qualitative research involves the use of quali...</td>\n",
       "    </tr>\n",
       "  </tbody>\n",
       "</table>\n",
       "</div>"
      ],
      "text/plain": [
       "      Unnamed: 0 ﻿PT         AU  BA  BE  GP         AF  BF  CA  \\\n",
       "1473        1473   J  Myers, MD NaN NaN NaN  Myers, MD NaN NaN   \n",
       "\n",
       "                                               TI             SO  SE  BS  \\\n",
       "1473  Qualitative research in information systems  MIS QUARTERLY NaN NaN   \n",
       "\n",
       "           LA       DT   CT   CY   CL   SP   HO  \\\n",
       "1473  English  Article  NaN  NaN  NaN  NaN  NaN   \n",
       "\n",
       "                                                     DE   ID  \\\n",
       "1473  research methodology; action research; case st...  NaN   \n",
       "\n",
       "                                                     AB   C1  \\\n",
       "1473  Qualitative research involves the use of quali...  NaN   \n",
       "\n",
       "                                                     RP   EM  \\\n",
       "1473  Myers, MD (reprint author), UNIV AUCKLAND,DEPT...  NaN   \n",
       "\n",
       "                              RI                                  OI   FU  \\\n",
       "1473  Myers, Michael/F-9405-2010  Myers, Michael/0000-0001-8525-6395  NaN   \n",
       "\n",
       "       FX   CR  NR   TC   Z9  U1  U2                              PU  \\\n",
       "1473  NaN  NaN   0  237  242   6  67  SOC INFORM MANAGE-MIS RES CENT   \n",
       "\n",
       "               PI                                                 PA  \\\n",
       "1473  MINNEAPOLIS  UNIV MINNESOTA-SCH MANAGEMENT 271 19TH AVE SOU...   \n",
       "\n",
       "             SN   EI  BN         J9      JI   PD    PY  VL   IS  PN  SU   SI  \\\n",
       "1473  0276-7783  NaN NaN  MIS QUART  MIS Q.  JUN  1997  21  2.0 NaN NaN  NaN   \n",
       "\n",
       "      MA   BP   EP  AR              DI  D2  PG  \\\n",
       "1473 NaN  241  242 NaN  10.2307/249422 NaN   2   \n",
       "\n",
       "                                                     WC  \\\n",
       "1473  Computer Science, Information Systems; Informa...   \n",
       "\n",
       "                                                     SC     GA  \\\n",
       "1473  Computer Science; Information Science & Librar...  XX650   \n",
       "\n",
       "                       UT  PM    id  \\\n",
       "1473  WOS:A1997XX65000008 NaN  1473   \n",
       "\n",
       "                                                    doc  \n",
       "1473  Qualitative research involves the use of quali...  "
      ]
     },
     "execution_count": 19,
     "metadata": {},
     "output_type": "execute_result"
    }
   ],
   "source": [
    "df[df.index==1473]"
   ]
  },
  {
   "cell_type": "code",
   "execution_count": null,
   "metadata": {
    "collapsed": true
   },
   "outputs": [],
   "source": []
  }
 ],
 "metadata": {
  "anaconda-cloud": {},
  "kernelspec": {
   "display_name": "Python [Root]",
   "language": "python",
   "name": "Python [Root]"
  },
  "language_info": {
   "codemirror_mode": {
    "name": "ipython",
    "version": 2
   },
   "file_extension": ".py",
   "mimetype": "text/x-python",
   "name": "python",
   "nbconvert_exporter": "python",
   "pygments_lexer": "ipython2",
   "version": "2.7.12"
  }
 },
 "nbformat": 4,
 "nbformat_minor": 0
}
