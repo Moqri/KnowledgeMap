{
 "cells": [
  {
   "cell_type": "code",
   "execution_count": 2,
   "metadata": {
    "collapsed": true
   },
   "outputs": [],
   "source": [
    "import pandas as pd"
   ]
  },
  {
   "cell_type": "code",
   "execution_count": 28,
   "metadata": {
    "collapsed": false,
    "scrolled": true
   },
   "outputs": [
    {
     "data": {
      "text/plain": [
       "(24265, 5)"
      ]
     },
     "execution_count": 28,
     "metadata": {},
     "output_type": "execute_result"
    }
   ],
   "source": [
    "path='../csv/'\n",
    "lsi=pd.read_csv(path+'p_lsi.csv')\n",
    "lsi['source_target']=lsi.source.astype(str)+'_'+lsi.target.astype(str)\n",
    "lsi.shape"
   ]
  },
  {
   "cell_type": "code",
   "execution_count": 29,
   "metadata": {
    "collapsed": false,
    "scrolled": true
   },
   "outputs": [
    {
     "data": {
      "text/plain": [
       "(21716, 5)"
      ]
     },
     "execution_count": 29,
     "metadata": {},
     "output_type": "execute_result"
    }
   ],
   "source": [
    "bib_all=pd.read_csv(path+'bib.csv')\n",
    "bib_all['source_target']=bib_all.source.astype(str)+'_'+bib_all.target.astype(str)\n",
    "bib_all.set_index('source_target', inplace=True,drop=True)\n",
    "bib_all_l=bib_all.weight\n",
    "lsi=lsi[(lsi.weight>.2) | (lsi.source_target.isin(bib_all_l.index))]\n",
    "lsi.shape"
   ]
  },
  {
   "cell_type": "code",
   "execution_count": 30,
   "metadata": {
    "collapsed": false
   },
   "outputs": [
    {
     "data": {
      "text/plain": [
       "(3380, 6)"
      ]
     },
     "execution_count": 30,
     "metadata": {},
     "output_type": "execute_result"
    }
   ],
   "source": [
    "bib=pd.read_csv(path+'p_bib.csv')\n",
    "bib['source_target']=bib.source.astype(str)+'_'+bib.target.astype(str)\n",
    "bib.set_index('source_target', inplace=True,drop=True)\n",
    "bib_l=bib.weight\n",
    "lsi['weight_lsi_bib']=lsi.apply(lambda row: \n",
    "                                max(row['weight'],bib_l[row['source_target']]) if row['source_target'] in bib_l \n",
    "                                else row['weight'],axis=1)\n",
    "lsi[lsi.weight_lsi_bib>lsi.weight].shape"
   ]
  },
  {
   "cell_type": "code",
   "execution_count": 31,
   "metadata": {
    "collapsed": false
   },
   "outputs": [
    {
     "data": {
      "text/plain": [
       "(4089, 7)"
      ]
     },
     "execution_count": 31,
     "metadata": {},
     "output_type": "execute_result"
    }
   ],
   "source": [
    "coc=pd.read_csv(path+'p_coc.csv')\n",
    "coc['source_target']=coc.source.astype(str)+'_'+coc.target.astype(str)\n",
    "coc.set_index('source_target', inplace=True,drop=True)\n",
    "coc_l=coc.weight\n",
    "lsi['weight_lsi_bib_coc']=lsi.apply(lambda row: \n",
    "                                    max(row['weight_lsi_bib'],coc_l[row['source_target']]) if row['source_target'] in coc_l \n",
    "                                    else row['weight_lsi_bib'],axis=1)\n",
    "lsi[lsi.weight_lsi_bib_coc>lsi.weight].shape"
   ]
  },
  {
   "cell_type": "code",
   "execution_count": 32,
   "metadata": {
    "collapsed": true
   },
   "outputs": [],
   "source": [
    "lsi.rename(columns={'weight':'old_weight'},inplace=True)\n",
    "lsi.rename(columns={'weight_lsi_bib_coc':'weight'},inplace=True)"
   ]
  },
  {
   "cell_type": "code",
   "execution_count": 33,
   "metadata": {
    "collapsed": false
   },
   "outputs": [
    {
     "data": {
      "text/plain": [
       "(21716, 7)"
      ]
     },
     "execution_count": 33,
     "metadata": {},
     "output_type": "execute_result"
    }
   ],
   "source": [
    "lsi.to_csv(path+'edges.csv')\n",
    "lsi[['source','target','weight']].to_csv(path+'edges_networkx.csv',index=False,header=False)\n",
    "lsi.shape"
   ]
  }
 ],
 "metadata": {
  "anaconda-cloud": {},
  "kernelspec": {
   "display_name": "Python [Root]",
   "language": "python",
   "name": "Python [Root]"
  }
 },
 "nbformat": 4,
 "nbformat_minor": 0
}
