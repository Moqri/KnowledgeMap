{
 "cells": [
  {
   "cell_type": "code",
   "execution_count": 2,
   "metadata": {
    "collapsed": true
   },
   "outputs": [],
   "source": [
    "import pandas as pd"
   ]
  },
  {
   "cell_type": "code",
   "execution_count": 3,
   "metadata": {
    "collapsed": false,
    "scrolled": true
   },
   "outputs": [
    {
     "data": {
      "text/plain": [
       "(24434, 5)"
      ]
     },
     "execution_count": 3,
     "metadata": {},
     "output_type": "execute_result"
    }
   ],
   "source": [
    "path='../csv/'\n",
    "lsi=pd.read_csv(path+'p_lsi.csv')\n",
    "lsi['source_target']=lsi.source.astype(str)+'_'+lsi.target.astype(str)\n",
    "lsi.shape"
   ]
  },
  {
   "cell_type": "code",
   "execution_count": 4,
   "metadata": {
    "collapsed": false,
    "scrolled": true
   },
   "outputs": [],
   "source": [
    "bib_all=pd.read_csv(path+'bib.csv')\n",
    "bib_all['source_target']=bib_all.source.astype(str)+'_'+bib_all.target.astype(str)\n",
    "bib_all.set_index('source_target', inplace=True,drop=True)\n",
    "bib_all_l=bib_all.weight"
   ]
  },
  {
   "cell_type": "code",
   "execution_count": 5,
   "metadata": {
    "collapsed": false,
    "scrolled": true
   },
   "outputs": [
    {
     "data": {
      "text/plain": [
       "Index([u'0_1', u'0_4', u'0_11', u'0_12', u'0_15', u'0_29', u'0_35', u'0_40',\n",
       "       u'0_48', u'0_78',\n",
       "       ...\n",
       "       u'2091_2096', u'2091_2098', u'2092_2096', u'2093_2094', u'2094_2095',\n",
       "       u'2094_2096', u'2094_2097', u'2094_2099', u'2096_2098', u'2097_2100'],\n",
       "      dtype='object', name=u'source_target', length=324888)"
      ]
     },
     "execution_count": 5,
     "metadata": {},
     "output_type": "execute_result"
    }
   ],
   "source": [
    "bib_all_l.index"
   ]
  },
  {
   "cell_type": "code",
   "execution_count": 6,
   "metadata": {
    "collapsed": false
   },
   "outputs": [
    {
     "data": {
      "text/plain": [
       "(21887, 5)"
      ]
     },
     "execution_count": 6,
     "metadata": {},
     "output_type": "execute_result"
    }
   ],
   "source": [
    "bib_all_l=bib_all.weight\n",
    "lsi=lsi[(lsi.weight>.2) | (lsi.source_target.isin(bib_all_l.index))]\n",
    "lsi.shape"
   ]
  },
  {
   "cell_type": "code",
   "execution_count": 7,
   "metadata": {
    "collapsed": false
   },
   "outputs": [
    {
     "data": {
      "text/plain": [
       "(983, 6)"
      ]
     },
     "execution_count": 7,
     "metadata": {},
     "output_type": "execute_result"
    }
   ],
   "source": [
    "bib=pd.read_csv(path+'p_bib.csv')\n",
    "bib['source_target']=bib.source.astype(str)+'_'+bib.target.astype(str)\n",
    "bib.set_index('source_target', inplace=True,drop=True)\n",
    "bib_l=bib.weight\n",
    "lsi['weight_lsi_bib']=lsi.apply(lambda row: \n",
    "                                max(row['weight'],bib_l[row['source_target']]) if row['source_target'] in bib_l \n",
    "                                else row['weight'],axis=1)\n",
    "lsi[lsi.weight_lsi_bib>lsi.weight].shape"
   ]
  },
  {
   "cell_type": "code",
   "execution_count": 8,
   "metadata": {
    "collapsed": false
   },
   "outputs": [
    {
     "data": {
      "text/plain": [
       "(1552, 7)"
      ]
     },
     "execution_count": 8,
     "metadata": {},
     "output_type": "execute_result"
    }
   ],
   "source": [
    "coc=pd.read_csv(path+'p_coc.csv')\n",
    "coc['source_target']=coc.source.astype(str)+'_'+coc.target.astype(str)\n",
    "coc.set_index('source_target', inplace=True,drop=True)\n",
    "coc_l=coc.weight\n",
    "lsi['weight_lsi_bib_coc']=lsi.apply(lambda row: \n",
    "                                    max(row['weight_lsi_bib'],coc_l[row['source_target']]) if row['source_target'] in coc_l \n",
    "                                    else row['weight_lsi_bib'],axis=1)\n",
    "lsi[lsi.weight_lsi_bib_coc>lsi.weight].shape"
   ]
  },
  {
   "cell_type": "code",
   "execution_count": 9,
   "metadata": {
    "collapsed": true
   },
   "outputs": [],
   "source": [
    "lsi.rename(columns={'weight':'old_weight'},inplace=True)\n",
    "lsi.rename(columns={'weight_lsi_bib_coc':'weight'},inplace=True)"
   ]
  },
  {
   "cell_type": "code",
   "execution_count": 10,
   "metadata": {
    "collapsed": false
   },
   "outputs": [
    {
     "data": {
      "text/plain": [
       "(21887, 7)"
      ]
     },
     "execution_count": 10,
     "metadata": {},
     "output_type": "execute_result"
    }
   ],
   "source": [
    "lsi.to_csv(path+'edges.csv')\n",
    "lsi[['source','target','weight']].to_csv(path+'edges_networkx.csv',index=False,header=False)\n",
    "lsi.shape"
   ]
  },
  {
   "cell_type": "code",
   "execution_count": null,
   "metadata": {
    "collapsed": true
   },
   "outputs": [],
   "source": []
  }
 ],
 "metadata": {
  "anaconda-cloud": {},
  "kernelspec": {
   "display_name": "Python [Root]",
   "language": "python",
   "name": "Python [Root]"
  }
 },
 "nbformat": 4,
 "nbformat_minor": 0
}
