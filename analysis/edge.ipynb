{
 "cells": [
  {
   "cell_type": "code",
   "execution_count": 178,
   "metadata": {
    "collapsed": true
   },
   "outputs": [],
   "source": [
    "import pandas as pd"
   ]
  },
  {
   "cell_type": "code",
   "execution_count": 187,
   "metadata": {
    "collapsed": false,
    "scrolled": true
   },
   "outputs": [],
   "source": [
    "path='../csv/'\n",
    "lsi=pd.read_csv(path+'p_lsi.csv')\n",
    "lsi['source_target']=lsi.source.astype(str)+'_'+lsi.target.astype(str)"
   ]
  },
  {
   "cell_type": "code",
   "execution_count": 188,
   "metadata": {
    "collapsed": false
   },
   "outputs": [],
   "source": [
    "bib=pd.read_csv(path+'p_bib.csv')\n",
    "bib['source_target']=bib.source.astype(str)+'_'+bib.target.astype(str)\n",
    "bib.set_index('source_target', inplace=True,drop=True)"
   ]
  },
  {
   "cell_type": "code",
   "execution_count": 189,
   "metadata": {
    "collapsed": false
   },
   "outputs": [],
   "source": [
    "coc=pd.read_csv(path+'p_coc.csv')\n",
    "coc['source_target']=coc.source.astype(str)+'_'+coc.target.astype(str)\n",
    "coc.set_index('source_target', inplace=True,drop=True)"
   ]
  },
  {
   "cell_type": "code",
   "execution_count": 190,
   "metadata": {
    "collapsed": false
   },
   "outputs": [],
   "source": [
    "bib_l=bib.weight\n",
    "coc_l=coc.weight"
   ]
  },
  {
   "cell_type": "code",
   "execution_count": 191,
   "metadata": {
    "collapsed": false,
    "scrolled": true
   },
   "outputs": [
    {
     "data": {
      "text/plain": [
       "(1274, 6)"
      ]
     },
     "execution_count": 191,
     "metadata": {},
     "output_type": "execute_result"
    }
   ],
   "source": [
    "lsi['weight_all']=lsi.apply(lambda row: max(row['weight'],bib_l[row['source_target']]) if row['source_target'] in bib_l else row['weight'],axis=1)\n",
    "lsi[lsi.weight_all>lsi.weight].shape"
   ]
  },
  {
   "cell_type": "code",
   "execution_count": 192,
   "metadata": {
    "collapsed": false
   },
   "outputs": [
    {
     "data": {
      "text/plain": [
       "(1686, 6)"
      ]
     },
     "execution_count": 192,
     "metadata": {},
     "output_type": "execute_result"
    }
   ],
   "source": [
    "lsi['weight_all']=lsi.apply(lambda row: max(row['weight_all'],coc_l[row['source_target']]) if row['source_target'] in coc_l else row['weight_all'],axis=1)\n",
    "lsi[lsi.weight_all>lsi.weight].shape"
   ]
  },
  {
   "cell_type": "code",
   "execution_count": 193,
   "metadata": {
    "collapsed": true
   },
   "outputs": [],
   "source": [
    "lsi.rename(columns={'weight':'old_weight'},inplace=True)\n",
    "lsi.rename(columns={'weight_all':'weight'},inplace=True)"
   ]
  },
  {
   "cell_type": "code",
   "execution_count": 194,
   "metadata": {
    "collapsed": true
   },
   "outputs": [],
   "source": [
    "lsi.to_csv(path+'edges.csv')"
   ]
  }
 ],
 "metadata": {
  "anaconda-cloud": {},
  "kernelspec": {
   "display_name": "Python [Root]",
   "language": "python",
   "name": "Python [Root]"
  },
  "language_info": {
   "codemirror_mode": {
    "name": "ipython",
    "version": 2
   },
   "file_extension": ".py",
   "mimetype": "text/x-python",
   "name": "python",
   "nbconvert_exporter": "python",
   "pygments_lexer": "ipython2",
   "version": "2.7.12"
  }
 },
 "nbformat": 4,
 "nbformat_minor": 0
}
