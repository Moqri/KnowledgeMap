{
 "cells": [
  {
   "cell_type": "code",
   "execution_count": 3,
   "metadata": {
    "collapsed": false
   },
   "outputs": [],
   "source": [
    "in_file =r'../../data/clean/articles.csv' \n",
    "\n",
    "import pandas as pd\n",
    "pd.set_option('display.max_columns', 500)\n",
    "\n",
    "import numpy as np\n",
    "from sklearn.metrics import pairwise_distances\n",
    "from scipy.spatial.distance import cosine\n"
   ]
  },
  {
   "cell_type": "code",
   "execution_count": 11,
   "metadata": {
    "collapsed": false
   },
   "outputs": [],
   "source": [
    "articles=pd.read_csv(in_file,index_col=False)\n",
    "articles.CR.fillna('',inplace=True)\n",
    "df_ref=articles.CR\n",
    "refs_dict={}\n",
    "i=0\n",
    "for ref in df_ref:\n",
    "    refs_dict[i]=[ref for ref in ref.split('; ')]\n",
    "    i=i+1"
   ]
  },
  {
   "cell_type": "code",
   "execution_count": 12,
   "metadata": {
    "collapsed": false
   },
   "outputs": [],
   "source": [
    "cite = open('cite_all.csv', 'w')\n",
    "cite.write('citing,cited\\n')\n",
    "\n",
    "for row in refs_dict:\n",
    "    for ref in refs_dict[row]:\n",
    "        cite.write(str(row)+','+ ref.replace(',','')+'\\n')\n",
    "cite.close()"
   ]
  },
  {
   "cell_type": "code",
   "execution_count": 4,
   "metadata": {
    "collapsed": false
   },
   "outputs": [],
   "source": [
    "cite_all=pd.read_csv('cite_all.csv')\n",
    "cite_all.fillna('',inplace=True)"
   ]
  },
  {
   "cell_type": "code",
   "execution_count": null,
   "metadata": {
    "collapsed": false,
    "scrolled": true
   },
   "outputs": [],
   "source": [
    "dg=cite_all.groupby('cited').count()\n",
    "dg1=dg[dg.citing==1]\n",
    "dg=dg[dg.citing>1]\n",
    "dg.reset_index(inplace=True)"
   ]
  },
  {
   "cell_type": "code",
   "execution_count": null,
   "metadata": {
    "collapsed": false
   },
   "outputs": [],
   "source": [
    "cite_all['cited_id']=-1\n",
    "i=0\n",
    "dg_cited=dg.cited.values\n",
    "for x in cite_all.cited:\n",
    "    try:\n",
    "        ind=dg[dg.cited==x].index[0]\n",
    "        cite_all.set_value(i,'cited_id',ind)\n",
    "    except:\n",
    "        pass\n",
    "    i=i+1\n",
    "    if i % 1000 ==0:\n",
    "        print i,\n",
    "print"
   ]
  },
  {
   "cell_type": "code",
   "execution_count": 11,
   "metadata": {
    "collapsed": false
   },
   "outputs": [],
   "source": [
    "cite_all=cite_all[cite_all.cited_id>-1]"
   ]
  },
  {
   "cell_type": "code",
   "execution_count": 1,
   "metadata": {
    "collapsed": false
   },
   "outputs": [
    {
     "ename": "NameError",
     "evalue": "name 'cite_all' is not defined",
     "output_type": "error",
     "traceback": [
      "\u001b[0;31m---------------------------------------------------------------------------\u001b[0m",
      "\u001b[0;31mNameError\u001b[0m                                 Traceback (most recent call last)",
      "\u001b[0;32m<ipython-input-1-b19b1724265e>\u001b[0m in \u001b[0;36m<module>\u001b[0;34m()\u001b[0m\n\u001b[0;32m----> 1\u001b[0;31m \u001b[0mdf\u001b[0m\u001b[0;34m=\u001b[0m\u001b[0mcite_all\u001b[0m\u001b[0;34m[\u001b[0m\u001b[0;34m[\u001b[0m\u001b[0;34m'citing'\u001b[0m\u001b[0;34m,\u001b[0m\u001b[0;34m'cited_id'\u001b[0m\u001b[0;34m]\u001b[0m\u001b[0;34m]\u001b[0m\u001b[0;34m\u001b[0m\u001b[0m\n\u001b[0m\u001b[1;32m      2\u001b[0m \u001b[0mdf\u001b[0m\u001b[0;34m.\u001b[0m\u001b[0mto_csv\u001b[0m\u001b[0;34m(\u001b[0m\u001b[0;34m'cite_all_id.csv'\u001b[0m\u001b[0;34m)\u001b[0m\u001b[0;34m\u001b[0m\u001b[0m\n",
      "\u001b[0;31mNameError\u001b[0m: name 'cite_all' is not defined"
     ]
    }
   ],
   "source": [
    "df=cite_all[['citing','cited_id']]\n",
    "df.to_csv('cite_all_id.csv')"
   ]
  },
  {
   "cell_type": "code",
   "execution_count": 22,
   "metadata": {
    "collapsed": false
   },
   "outputs": [],
   "source": [
    "df=pd.read_csv('cite_all_id.csv',index_col='Unnamed: 0')"
   ]
  },
  {
   "cell_type": "code",
   "execution_count": 23,
   "metadata": {
    "collapsed": false
   },
   "outputs": [
    {
     "data": {
      "text/plain": [
       "(1207, 11622)"
      ]
     },
     "execution_count": 23,
     "metadata": {},
     "output_type": "execute_result"
    }
   ],
   "source": [
    "x=df.citing.max()\n",
    "y=df.cited_id.max()\n",
    "mm=np.zeros((x+1,y+1))\n",
    "mm.shape"
   ]
  },
  {
   "cell_type": "code",
   "execution_count": 24,
   "metadata": {
    "collapsed": false
   },
   "outputs": [],
   "source": [
    "for row in df.iterrows():\n",
    "    mm[row[1][0],row[1][1]]=1"
   ]
  },
  {
   "cell_type": "code",
   "execution_count": 25,
   "metadata": {
    "collapsed": false,
    "scrolled": true
   },
   "outputs": [
    {
     "data": {
      "text/plain": [
       "array([[ 0.   ,  0.112,  0.   , ...,  0.015,  0.   ,  0.   ],\n",
       "       [ 0.   ,  0.   ,  0.   , ...,  0.   ,  0.   ,  0.   ],\n",
       "       [ 0.   ,  0.   ,  0.   , ...,  0.   ,  0.   ,  0.   ],\n",
       "       ..., \n",
       "       [ 0.   ,  0.   ,  0.   , ...,  0.   ,  0.   ,  0.   ],\n",
       "       [ 0.   ,  0.   ,  0.   , ...,  0.   ,  0.   ,  0.   ],\n",
       "       [ 0.   ,  0.   ,  0.   , ...,  0.   ,  0.   ,  0.   ]])"
      ]
     },
     "execution_count": 25,
     "metadata": {},
     "output_type": "execute_result"
    }
   ],
   "source": [
    "#bib=np.triu(np.dot(mm,mm.transpose()),1)\n",
    "bib = 1-pairwise_distances(mm, metric=\"cosine\")\n",
    "bib = np.round(np.triu(bib,1),3)\n",
    "bib"
   ]
  },
  {
   "cell_type": "code",
   "execution_count": 26,
   "metadata": {
    "collapsed": false
   },
   "outputs": [],
   "source": [
    "biblio = open('bib.csv', 'w')\n",
    "biblio.write('source,target,weight,type\\n')\n",
    "\n",
    "for row in range(bib.shape[0]):\n",
    "    for col in range(row,bib.shape[1]):\n",
    "        if bib[row][col] > .1:\n",
    "            biblio.write(str(row)+','+str(col)+','+str(bib[row][col])+',undirected\\n')\n",
    "biblio.close()"
   ]
  },
  {
   "cell_type": "code",
   "execution_count": 27,
   "metadata": {
    "collapsed": false
   },
   "outputs": [
    {
     "data": {
      "text/html": [
       "<div>\n",
       "<table border=\"1\" class=\"dataframe\">\n",
       "  <thead>\n",
       "    <tr style=\"text-align: right;\">\n",
       "      <th></th>\n",
       "      <th>source</th>\n",
       "      <th>target</th>\n",
       "      <th>weight</th>\n",
       "      <th>type</th>\n",
       "    </tr>\n",
       "  </thead>\n",
       "  <tbody>\n",
       "    <tr>\n",
       "      <th>1676</th>\n",
       "      <td>129</td>\n",
       "      <td>137</td>\n",
       "      <td>0.802</td>\n",
       "      <td>undirected</td>\n",
       "    </tr>\n",
       "    <tr>\n",
       "      <th>2798</th>\n",
       "      <td>212</td>\n",
       "      <td>618</td>\n",
       "      <td>0.816</td>\n",
       "      <td>undirected</td>\n",
       "    </tr>\n",
       "    <tr>\n",
       "      <th>4096</th>\n",
       "      <td>341</td>\n",
       "      <td>1195</td>\n",
       "      <td>0.918</td>\n",
       "      <td>undirected</td>\n",
       "    </tr>\n",
       "    <tr>\n",
       "      <th>5889</th>\n",
       "      <td>552</td>\n",
       "      <td>680</td>\n",
       "      <td>0.735</td>\n",
       "      <td>undirected</td>\n",
       "    </tr>\n",
       "    <tr>\n",
       "      <th>7787</th>\n",
       "      <td>937</td>\n",
       "      <td>1012</td>\n",
       "      <td>0.705</td>\n",
       "      <td>undirected</td>\n",
       "    </tr>\n",
       "  </tbody>\n",
       "</table>\n",
       "</div>"
      ],
      "text/plain": [
       "      source  target  weight        type\n",
       "1676     129     137   0.802  undirected\n",
       "2798     212     618   0.816  undirected\n",
       "4096     341    1195   0.918  undirected\n",
       "5889     552     680   0.735  undirected\n",
       "7787     937    1012   0.705  undirected"
      ]
     },
     "execution_count": 27,
     "metadata": {},
     "output_type": "execute_result"
    }
   ],
   "source": [
    "df=pd.read_csv('bib.csv')\n",
    "df[df.weight>.7]"
   ]
  },
  {
   "cell_type": "code",
   "execution_count": null,
   "metadata": {
    "collapsed": true
   },
   "outputs": [],
   "source": []
  }
 ],
 "metadata": {
  "anaconda-cloud": {},
  "kernelspec": {
   "display_name": "Python [Root]",
   "language": "python",
   "name": "Python [Root]"
  }
 },
 "nbformat": 4,
 "nbformat_minor": 0
}
