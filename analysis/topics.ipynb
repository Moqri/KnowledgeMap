{
 "cells": [
  {
   "cell_type": "markdown",
   "metadata": {},
   "source": [
    "for 1990 to 2006:\n",
    "* Clusters\n",
    "    * Topics in each cluster\n",
    "    * Top papers in each topic\n",
    "* Clusters relations\n",
    "    * Papers between clusters\n",
    "    \n",
    "for 2006 to 2016:\n",
    "* New clusters\n",
    "    New Topics\n",
    "* Changes to old clusters\n"
   ]
  },
  {
   "cell_type": "markdown",
   "metadata": {},
   "source": [
    "\n",
    "### 14- IT & Firms\n",
    "    IT capablity (resources) and firm performance (1339, 1106, 883, 1131, 949)\n",
    "    IT business value (1016, 1515, 1560, 939, 972, 1131, 1007)\n",
    "    IT and competitive advantage (1538,784,903)\n",
    "    IT investment - examining IT investment value to the firm (1244\n",
    "    Resource-based analysis (1339, 1538, 1034, 1131,949, 1007)\n",
    "    \n",
    "The main focus of this cluster of research is on the study of Information Technology in the context of organizations and firms. We identified four highly inter-related themes in this cluster: 1) IT capablity and firm performance, 2) IT business value, 3) Competitive advantage of IT, and 4) IT investments in firms. \n",
    "\n",
    "\n",
    "### 3- Group Support\n",
    "    Group DSS\n",
    "    Group ideanion & e-brainstorming\n",
    "    \n",
    "\n",
    "\n",
    "\n",
    "\n",
    "### 15- Decision Support\n",
    "    DSS\n",
    "    IS Sucess!\n",
    "    \n",
    "### 16- Software & Sourcing\n",
    "    Software projects\n",
    "    IT sourcing\n",
    "    Real options\n",
    "    \n",
    "### 27- \n",
    "\n",
    "\n",
    "   \n",
    "### 10- Knowledge Management\n",
    "    Knowledge management\n",
    "    Knowledge/information reuse/sharing\n",
    "    Knowledge repositories\n",
    "    Information/data quality\n",
    "\n",
    "### 7- Technology Acceptance\n",
    "    Technology use & adoption \n",
    "    User perception & belief\n",
    "    Open standard & standardization!\n",
    "   \n",
    "### 1- Training/learning\n",
    "    Computer mediated training/learning\n",
    "    Computer self-efficiency\n",
    "    Collaborative learning\n",
    "    \n",
    "### 0- E-commerce & Trust\n",
    "    E-commerce and online marketplace\n",
    "    Online trust\n",
    "    \n",
    "### 16- Auction and Pricing\n",
    "    Online auction and bidding\n",
    "    Infromation good pricing\n",
    "    Online markets\n",
    "\n",
    "    \n",
    "    \n",
    "\n",
    "    "
   ]
  },
  {
   "cell_type": "code",
   "execution_count": null,
   "metadata": {
    "collapsed": true
   },
   "outputs": [],
   "source": []
  }
 ],
 "metadata": {
  "anaconda-cloud": {},
  "kernelspec": {
   "display_name": "Python [Root]",
   "language": "python",
   "name": "Python [Root]"
  },
  "language_info": {
   "codemirror_mode": {
    "name": "ipython",
    "version": 2
   },
   "file_extension": ".py",
   "mimetype": "text/x-python",
   "name": "python",
   "nbconvert_exporter": "python",
   "pygments_lexer": "ipython2",
   "version": "2.7.12"
  }
 },
 "nbformat": 4,
 "nbformat_minor": 0
}
