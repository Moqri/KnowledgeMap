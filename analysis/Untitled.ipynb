{
 "cells": [
  {
   "cell_type": "code",
   "execution_count": 5,
   "metadata": {
    "collapsed": true
   },
   "outputs": [],
   "source": [
    "import networkx as nx\n",
    "import community"
   ]
  },
  {
   "cell_type": "code",
   "execution_count": 8,
   "metadata": {
    "collapsed": false
   },
   "outputs": [
    {
     "name": "stdout",
     "output_type": "stream",
     "text": [
      "('partition at level', 0, 'is', {0: 0, 1: 1, 2: 2, 3: 3, 4: 4, 5: 5, 6: 6, 7: 7, 8: 8, 9: 9, 10: 10, 11: 11, 12: 12, 13: 13, 14: 14, 15: 15, 16: 16, 17: 17, 18: 18, 19: 19, 20: 20, 21: 21, 22: 22, 23: 23, 24: 24, 25: 25, 26: 26, 27: 27, 28: 28, 29: 18, 30: 29, 31: 30, 32: 18, 33: 31, 34: 13, 35: 32, 36: 33, 37: 34, 38: 20, 39: 1, 40: 35, 41: 9, 42: 36, 43: 26, 44: 37, 45: 38, 46: 39, 47: 17, 48: 40, 49: 15, 50: 35, 51: 41, 52: 23, 53: 42, 54: 16, 55: 41, 56: 43, 57: 16, 58: 44, 59: 3, 60: 45, 61: 46, 62: 12, 63: 27, 64: 47, 65: 10, 66: 33, 67: 47, 68: 48, 69: 49, 70: 24, 71: 50, 72: 8, 73: 42, 74: 2, 75: 50, 76: 51, 77: 7, 78: 52, 79: 53, 80: 31, 81: 54, 82: 55, 83: 56, 84: 6, 85: 57, 86: 58, 87: 25, 88: 3, 89: 59, 90: 49, 91: 60, 92: 2, 93: 51, 94: 3, 95: 61, 96: 62, 97: 63, 98: 60, 99: 19})\n",
      "('partition at level', 1, 'is', {0: 0, 1: 1, 2: 2, 3: 3, 4: 4, 5: 5, 6: 6, 7: 7, 8: 8, 9: 9, 10: 10, 11: 11, 12: 10, 13: 12, 14: 13, 15: 14, 16: 15, 17: 16, 18: 8, 19: 17, 20: 18, 21: 19, 22: 20, 23: 12, 24: 16, 25: 21, 26: 22, 27: 22, 28: 23, 29: 8, 30: 24, 31: 25, 32: 8, 33: 1, 34: 12, 35: 26, 36: 9, 37: 27, 38: 18, 39: 1, 40: 21, 41: 9, 42: 28, 43: 22, 44: 29, 45: 30, 46: 31, 47: 16, 48: 32, 49: 14, 50: 21, 51: 33, 52: 12, 53: 34, 54: 15, 55: 33, 56: 35, 57: 15, 58: 36, 59: 3, 60: 37, 61: 38, 62: 10, 63: 22, 64: 15, 65: 10, 66: 9, 67: 15, 68: 39, 69: 40, 70: 16, 71: 17, 72: 8, 73: 34, 74: 2, 75: 17, 76: 41, 77: 7, 78: 42, 79: 43, 80: 1, 81: 44, 82: 45, 83: 46, 84: 6, 85: 47, 86: 48, 87: 21, 88: 3, 89: 49, 90: 40, 91: 1, 92: 2, 93: 41, 94: 3, 95: 50, 96: 51, 97: 52, 98: 1, 99: 17})\n"
     ]
    }
   ],
   "source": [
    "\n",
    "G=nx.erdos_renyi_graph(100, 0.01)\n",
    "dendo = community.generate_dendrogram(G)\n",
    "for level in range(len(dendo) - 1) :\n",
    " print(\"partition at level\", level,\n",
    "       \"is\", community.partition_at_level(dendo, level))"
   ]
  },
  {
   "cell_type": "code",
   "execution_count": 11,
   "metadata": {
    "collapsed": false
   },
   "outputs": [
    {
     "data": {
      "text/plain": [
       "True"
      ]
     },
     "execution_count": 11,
     "metadata": {},
     "output_type": "execute_result"
    }
   ],
   "source": [
    " n = 5\n",
    " g = nx.complete_graph(2*n)\n",
    " part = dict([])\n",
    " for node in g.nodes() :\n",
    "     part[node] = node % 2\n",
    " ind = community.induced_graph(part, g)\n",
    " goal = nx.Graph()\n",
    " goal.add_weighted_edges_from([(0,1,n*n),(0,0,n*(n-1)/2), (1, 1, n*(n-1)/2)])  # NOQA\n",
    " nx.is_isomorphic(ind, goal)\n"
   ]
  },
  {
   "cell_type": "code",
   "execution_count": 25,
   "metadata": {
    "collapsed": false
   },
   "outputs": [
    {
     "ename": "KeyError",
     "evalue": "2",
     "output_type": "error",
     "traceback": [
      "\u001b[0;31m---------------------------------------------------------------------------\u001b[0m",
      "\u001b[0;31mKeyError\u001b[0m                                  Traceback (most recent call last)",
      "\u001b[0;32m<ipython-input-25-57ade477fa52>\u001b[0m in \u001b[0;36m<module>\u001b[0;34m()\u001b[0m\n\u001b[0;32m----> 1\u001b[0;31m \u001b[0mgoal\u001b[0m\u001b[0;34m[\u001b[0m\u001b[0;36m2\u001b[0m\u001b[0;34m]\u001b[0m\u001b[0;34m\u001b[0m\u001b[0m\n\u001b[0m",
      "\u001b[0;32m/Users/mahdimoqri/anaconda/lib/python2.7/site-packages/networkx/classes/graph.pyc\u001b[0m in \u001b[0;36m__getitem__\u001b[0;34m(self, n)\u001b[0m\n\u001b[1;32m    405\u001b[0m         \u001b[0;34m{\u001b[0m\u001b[0;36m1\u001b[0m\u001b[0;34m:\u001b[0m \u001b[0;34m{\u001b[0m\u001b[0;34m}\u001b[0m\u001b[0;34m}\u001b[0m\u001b[0;34m\u001b[0m\u001b[0m\n\u001b[1;32m    406\u001b[0m         \"\"\"\n\u001b[0;32m--> 407\u001b[0;31m         \u001b[0;32mreturn\u001b[0m \u001b[0mself\u001b[0m\u001b[0;34m.\u001b[0m\u001b[0madj\u001b[0m\u001b[0;34m[\u001b[0m\u001b[0mn\u001b[0m\u001b[0;34m]\u001b[0m\u001b[0;34m\u001b[0m\u001b[0m\n\u001b[0m\u001b[1;32m    408\u001b[0m \u001b[0;34m\u001b[0m\u001b[0m\n\u001b[1;32m    409\u001b[0m     \u001b[0;32mdef\u001b[0m \u001b[0madd_node\u001b[0m\u001b[0;34m(\u001b[0m\u001b[0mself\u001b[0m\u001b[0;34m,\u001b[0m \u001b[0mn\u001b[0m\u001b[0;34m,\u001b[0m \u001b[0mattr_dict\u001b[0m\u001b[0;34m=\u001b[0m\u001b[0mNone\u001b[0m\u001b[0;34m,\u001b[0m \u001b[0;34m**\u001b[0m\u001b[0mattr\u001b[0m\u001b[0;34m)\u001b[0m\u001b[0;34m:\u001b[0m\u001b[0;34m\u001b[0m\u001b[0m\n",
      "\u001b[0;31mKeyError\u001b[0m: 2"
     ]
    }
   ],
   "source": [
    "goal[2]"
   ]
  },
  {
   "cell_type": "code",
   "execution_count": null,
   "metadata": {
    "collapsed": true
   },
   "outputs": [],
   "source": []
  }
 ],
 "metadata": {
  "kernelspec": {
   "display_name": "Python [Root]",
   "language": "python",
   "name": "Python [Root]"
  },
  "language_info": {
   "codemirror_mode": {
    "name": "ipython",
    "version": 2
   },
   "file_extension": ".py",
   "mimetype": "text/x-python",
   "name": "python",
   "nbconvert_exporter": "python",
   "pygments_lexer": "ipython2",
   "version": "2.7.12"
  }
 },
 "nbformat": 4,
 "nbformat_minor": 0
}
