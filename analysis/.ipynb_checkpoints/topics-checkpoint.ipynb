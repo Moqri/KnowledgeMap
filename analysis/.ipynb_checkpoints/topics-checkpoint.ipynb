{
 "cells": [
  {
   "cell_type": "markdown",
   "metadata": {},
   "source": [
    "\n",
    "### 14- IT & Firms\n",
    "    IT capacity and investment  \n",
    "    IT\\IS h and firm performance\n",
    "\n",
    "### 15- Decision Support\n",
    "    DSS\n",
    "    IS Sucess!\n",
    "    \n",
    "### 16- Software & Sourcing\n",
    "    Software projects\n",
    "    IT sourcing\n",
    "    Real options\n",
    "    \n",
    "### 27- \n",
    "\n",
    "### 3- Group Support\n",
    "    Group DSS\n",
    "    Group ideanion & e-brainstorming\n",
    "   \n",
    "### 10- Knowledge Management\n",
    "    Knowledge management\n",
    "    Knowledge/information reuse/sharing\n",
    "    Knowledge repositories\n",
    "    Information/data quality\n",
    "\n",
    "### 7- Technology Acceptance\n",
    "    Technology use & adoption \n",
    "    User perception & belief\n",
    "    Open standard & standardization!\n",
    "   \n",
    "### 1- Training/learning\n",
    "    Computer mediated training/learning\n",
    "    Computer self-efficiency\n",
    "    Collaborative learning\n",
    "    \n",
    "### 0- E-commerce & Trus\n",
    "    E-commerce and online marketplace\n",
    "    Online trust\n",
    "\n",
    "    \n",
    "    \n",
    "\n",
    "    "
   ]
  },
  {
   "cell_type": "code",
   "execution_count": null,
   "metadata": {
    "collapsed": true
   },
   "outputs": [],
   "source": []
  }
 ],
 "metadata": {
  "kernelspec": {
   "display_name": "Python [Root]",
   "language": "python",
   "name": "Python [Root]"
  },
  "language_info": {
   "codemirror_mode": {
    "name": "ipython",
    "version": 2
   },
   "file_extension": ".py",
   "mimetype": "text/x-python",
   "name": "python",
   "nbconvert_exporter": "python",
   "pygments_lexer": "ipython2",
   "version": "2.7.12"
  }
 },
 "nbformat": 4,
 "nbformat_minor": 0
}
