{
 "cells": [
  {
   "cell_type": "code",
   "execution_count": null,
   "metadata": {
    "collapsed": false
   },
   "outputs": [],
   "source": [
    "import pandas as pd\n",
    "pd.set_option('display.max_colwidth', -1)\n",
    "\n",
    "import numpy as np\n",
    "import networkx as nx\n",
    "import matplotlib.pyplot as plt\n",
    "%matplotlib inline\n",
    "import community"
   ]
  },
  {
   "cell_type": "code",
   "execution_count": null,
   "metadata": {
    "collapsed": false
   },
   "outputs": [],
   "source": [
    "edges=pd.read_csv('../csv/edges.csv')\n",
    "edges[['source','target','weight']].to_csv('../csv/edges_networkx.csv',index=False,header=False)"
   ]
  },
  {
   "cell_type": "code",
   "execution_count": null,
   "metadata": {
    "collapsed": false
   },
   "outputs": [],
   "source": [
    "#G_fb = nx.read_edgelist(\"facebook_combined.txt\", create_using = nx.Graph(), nodetype = int)\n",
    "g = nx.read_weighted_edgelist(\"../csv/edges_networkx.csv\", delimiter=',', create_using = nx.Graph(), nodetype = int)\n",
    "print nx.info(g)"
   ]
  },
  {
   "cell_type": "code",
   "execution_count": null,
   "metadata": {
    "collapsed": false
   },
   "outputs": [],
   "source": [
    "nodes=pd.read_csv('../csv/nodes.csv')\n",
    "old_nodes_df=nodes[nodes.PY<=2006]\n",
    "new_nodes=nodes[nodes.PY>2006].index.values\n",
    "g.remove_nodes_from(new_nodes)\n",
    "print nx.info(g)"
   ]
  },
  {
   "cell_type": "code",
   "execution_count": null,
   "metadata": {
    "collapsed": false
   },
   "outputs": [],
   "source": [
    "deg = g.degree()\n",
    "to_remove = [n for n in deg if deg[n] == 0]\n",
    "g.remove_nodes_from(to_remove)\n",
    "print nx.info(g)"
   ]
  },
  {
   "cell_type": "code",
   "execution_count": null,
   "metadata": {
    "collapsed": true
   },
   "outputs": [],
   "source": [
    "spring_pos = nx.spring_layout(g)"
   ]
  },
  {
   "cell_type": "code",
   "execution_count": null,
   "metadata": {
    "collapsed": false
   },
   "outputs": [],
   "source": [
    "plt.axis(\"off\")\n",
    "nx.draw_networkx(g, pos = spring_pos, with_labels = False, node_size = 10)\n"
   ]
  },
  {
   "cell_type": "code",
   "execution_count": null,
   "metadata": {
    "collapsed": false
   },
   "outputs": [],
   "source": [
    "parts = community.best_partition(g)\n",
    "community.modularity(parts,g)\n"
   ]
  },
  {
   "cell_type": "code",
   "execution_count": null,
   "metadata": {
    "collapsed": false
   },
   "outputs": [],
   "source": [
    "values = [parts.get(node) for node in g.nodes()]\n",
    "max(values)"
   ]
  },
  {
   "cell_type": "code",
   "execution_count": null,
   "metadata": {
    "collapsed": false
   },
   "outputs": [],
   "source": [
    "plt.axis(\"off\")\n",
    "nx.draw_networkx(g, pos = spring_pos, cmap = plt.get_cmap(\"jet\"), node_color = values, node_size = 10, with_labels = False)\n"
   ]
  },
  {
   "cell_type": "code",
   "execution_count": null,
   "metadata": {
    "collapsed": false
   },
   "outputs": [],
   "source": [
    "old_nodes_df['cluster']=0"
   ]
  },
  {
   "cell_type": "code",
   "execution_count": null,
   "metadata": {
    "collapsed": false,
    "scrolled": true
   },
   "outputs": [],
   "source": [
    "for x in parts:\n",
    "    old_nodes_df.set_value(x,'cluster',parts[x])"
   ]
  },
  {
   "cell_type": "code",
   "execution_count": null,
   "metadata": {
    "collapsed": false,
    "scrolled": true
   },
   "outputs": [],
   "source": [
    "df=old_nodes_df"
   ]
  },
  {
   "cell_type": "code",
   "execution_count": null,
   "metadata": {
    "collapsed": true
   },
   "outputs": [],
   "source": [
    "dg=df[['id','cluster']].groupby('cluster').count()\n",
    "dg=dg.reset_index(drop=True)\n",
    "dg.rename(columns={'id':'cluster size'},inplace=True)"
   ]
  },
  {
   "cell_type": "code",
   "execution_count": null,
   "metadata": {
    "collapsed": false
   },
   "outputs": [],
   "source": [
    "df['cluster size']=df.cluster.apply(lambda x: dg.iloc[x])"
   ]
  },
  {
   "cell_type": "code",
   "execution_count": null,
   "metadata": {
    "collapsed": false
   },
   "outputs": [],
   "source": [
    "docs=df.label"
   ]
  },
  {
   "cell_type": "code",
   "execution_count": null,
   "metadata": {
    "collapsed": false
   },
   "outputs": [],
   "source": [
    "import re\n",
    "from nltk import stem\n",
    "porter = stem.porter.PorterStemmer()\n",
    "from collections import Counter\n",
    "docs_cleaned = [[re.sub('[.!,;?()\\W\\d]+', '', word) for word in doc.lower().split()] for doc in docs]"
   ]
  },
  {
   "cell_type": "code",
   "execution_count": null,
   "metadata": {
    "collapsed": true
   },
   "outputs": [],
   "source": [
    "stop= open ('stopList.txt').read()\n",
    "stop_list = set(stop.replace(\"\\n\", \" \").split())\n",
    "docs_stemed = [[porter.stem(word) for word in document if word not in stop_list] for document in docs_cleaned]"
   ]
  },
  {
   "cell_type": "code",
   "execution_count": null,
   "metadata": {
    "collapsed": false
   },
   "outputs": [],
   "source": [
    "df['ind']=df.index\n",
    "df['terms']= docs_stemed"
   ]
  },
  {
   "cell_type": "code",
   "execution_count": null,
   "metadata": {
    "collapsed": false
   },
   "outputs": [],
   "source": [
    "dg['keyword']=''\n",
    "dg['key terms']=''\n",
    "\n",
    "for mod in dg.index:\n",
    "    mod_terms=[]\n",
    "    for terms in df[df.cluster==mod].terms:\n",
    "        for term in terms:\n",
    "            mod_terms.append(term)\n",
    "            \n",
    "    words = [word for word in mod_terms if word != '']                \n",
    "    words_counter = Counter(words)\n",
    "    top_words=[word for word in words_counter.most_common(5) if word[1]>1]\n",
    "    dg.set_value(mod,'keyword',top_words)\n",
    "    \n",
    "    terms = [words[i]+' '+words[i+1] for i in range(len(words)-1)]\n",
    "    terms_counter= Counter(terms)\n",
    "    top_terms=[term for term in terms_counter.most_common(5) if term[1]>1]\n",
    "    dg.set_value(mod,'key terms',top_terms)"
   ]
  },
  {
   "cell_type": "code",
   "execution_count": null,
   "metadata": {
    "collapsed": false,
    "scrolled": false
   },
   "outputs": [],
   "source": [
    "dg.sort_values('cluster size')"
   ]
  },
  {
   "cell_type": "code",
   "execution_count": null,
   "metadata": {
    "collapsed": false
   },
   "outputs": [],
   "source": [
    "df[df.cluster==16]"
   ]
  },
  {
   "cell_type": "code",
   "execution_count": null,
   "metadata": {
    "collapsed": true
   },
   "outputs": [],
   "source": [
    "#dendrogram=community.generate_dendrogram(G_fb)[0]\n",
    "#dendrogram\n",
    "com=community.induced_graph(parts,G_fb)\n",
    "nx.draw_networkx(com,cmap = plt.get_cmap(\"jet\"), node_size = 10, with_labels = False)"
   ]
  }
 ],
 "metadata": {
  "anaconda-cloud": {},
  "kernelspec": {
   "display_name": "Python [Root]",
   "language": "python",
   "name": "Python [Root]"
  },
  "language_info": {
   "codemirror_mode": {
    "name": "ipython",
    "version": 2
   },
   "file_extension": ".py",
   "mimetype": "text/x-python",
   "name": "python",
   "nbconvert_exporter": "python",
   "pygments_lexer": "ipython2",
   "version": "2.7.12"
  }
 },
 "nbformat": 4,
 "nbformat_minor": 0
}
