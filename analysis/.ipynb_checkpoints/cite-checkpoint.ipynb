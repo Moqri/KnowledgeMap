{
 "cells": [
  {
   "cell_type": "code",
   "execution_count": 1,
   "metadata": {
    "collapsed": true
   },
   "outputs": [],
   "source": [
    "in_file =r'../../data/clean/articles.csv' \n",
    "\n",
    "import pandas as pd\n",
    "pd.set_option('display.max_columns', 500)\n",
    "\n",
    "import numpy as np\n"
   ]
  },
  {
   "cell_type": "code",
   "execution_count": 2,
   "metadata": {
    "collapsed": false
   },
   "outputs": [],
   "source": [
    "df=pd.read_csv(in_file,index_col=False)\n",
    "df=df[~df.AB.isnull()]\n",
    "df.CR.fillna('',inplace=True)\n",
    "df_ref=df.CR"
   ]
  },
  {
   "cell_type": "code",
   "execution_count": 3,
   "metadata": {
    "collapsed": false
   },
   "outputs": [],
   "source": [
    "df['author']=df.AU.apply(lambda x: x.split(';')[0].replace(',',''))\n",
    "df['signiture']=df.author+', '+df.PY.astype(str)+', '+df.J9+', V'+df.VL.astype(str)+', P'+df.BP.astype(str)\n",
    "df['signiture']=df.apply(lambda x : x.signiture if pd.isnull(x.DI) else x.signiture+', DOI '+x.DI, axis=1 )"
   ]
  },
  {
   "cell_type": "code",
   "execution_count": 4,
   "metadata": {
    "collapsed": false
   },
   "outputs": [],
   "source": [
    "refs_dict={}\n",
    "i=0\n",
    "for ref in df_ref:\n",
    "    refs_dict[i]=[ref for ref in ref.split('; ')]\n",
    "    i=i+1"
   ]
  },
  {
   "cell_type": "code",
   "execution_count": 5,
   "metadata": {
    "collapsed": false
   },
   "outputs": [],
   "source": [
    "refs_basket_dict={}\n",
    "sources=[\n",
    "    'MIS QUART',\n",
    "    'J MANAGE INFORM SYST',\n",
    "    'INFORM SYST RES'\n",
    "]\n",
    "sources=[', '+source+',' for source in sources]\n",
    "\n",
    "for i in refs_dict:\n",
    "    refs=refs_dict[i]\n",
    "    refs_basket=[]\n",
    "    for ref in refs:\n",
    "        if any (source in ref for source in sources):\n",
    "            refs_basket.append(ref)\n",
    "    refs_basket_dict[i]=refs_basket"
   ]
  },
  {
   "cell_type": "code",
   "execution_count": 21,
   "metadata": {
    "collapsed": false
   },
   "outputs": [],
   "source": [
    "cite = open('cite.csv', 'w')\n",
    "cite.write('citing,cited\\n')\n",
    "\n",
    "for row in refs_basket_dict:\n",
    "    for ref in refs_basket_dict[row]:\n",
    "        if ref in df.signiture.values:\n",
    "            cite.write(str(row)+','+str(np.where(df.signiture==ref)[0][0])+'\\n')\n",
    "cite.close()"
   ]
  },
  {
   "cell_type": "code",
   "execution_count": null,
   "metadata": {
    "collapsed": true
   },
   "outputs": [],
   "source": []
  }
 ],
 "metadata": {
  "anaconda-cloud": {},
  "kernelspec": {
   "display_name": "Python [Root]",
   "language": "python",
   "name": "Python [Root]"
  },
  "language_info": {
   "codemirror_mode": {
    "name": "ipython",
    "version": 2
   },
   "file_extension": ".py",
   "mimetype": "text/x-python",
   "name": "python",
   "nbconvert_exporter": "python",
   "pygments_lexer": "ipython2",
   "version": "2.7.12"
  }
 },
 "nbformat": 4,
 "nbformat_minor": 0
}
