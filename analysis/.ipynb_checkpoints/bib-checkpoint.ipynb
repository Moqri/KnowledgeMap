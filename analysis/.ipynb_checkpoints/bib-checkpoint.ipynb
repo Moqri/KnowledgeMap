{
 "cells": [
  {
   "cell_type": "code",
   "execution_count": 1,
   "metadata": {
    "collapsed": false
   },
   "outputs": [],
   "source": [
    "in_file =r'../../data/clean/articles.csv' \n",
    "\n",
    "import pandas as pd\n",
    "pd.set_option('display.max_columns', 500)\n",
    "\n",
    "import numpy as np"
   ]
  },
  {
   "cell_type": "code",
   "execution_count": 2,
   "metadata": {
    "collapsed": false
   },
   "outputs": [],
   "source": [
    "articles=pd.read_csv(in_file,index_col=False)\n",
    "articles.CR.fillna('',inplace=True)\n",
    "df_ref=articles.CR\n",
    "refs_dict={}\n",
    "i=0\n",
    "for ref in df_ref:\n",
    "    refs_dict[i]=[ref for ref in ref.split('; ')]\n",
    "    i=i+1"
   ]
  },
  {
   "cell_type": "code",
   "execution_count": 3,
   "metadata": {
    "collapsed": false
   },
   "outputs": [],
   "source": [
    "cite = open('cite_all.csv', 'w')\n",
    "cite.write('citing,cited\\n')\n",
    "\n",
    "for row in refs_dict:\n",
    "    for ref in refs_dict[row]:\n",
    "        cite.write(str(row)+','+ ref.replace(',','')+'\\n')\n",
    "cite.close()"
   ]
  },
  {
   "cell_type": "code",
   "execution_count": 4,
   "metadata": {
    "collapsed": false
   },
   "outputs": [],
   "source": [
    "cite_all=pd.read_csv('cite_all.csv')\n",
    "cite_all.fillna('',inplace=True)"
   ]
  },
  {
   "cell_type": "code",
   "execution_count": 6,
   "metadata": {
    "collapsed": false,
    "scrolled": true
   },
   "outputs": [],
   "source": [
    "dg=cite_all.groupby('cited').count()\n",
    "dg1=dg[dg.citing==1]\n",
    "dg=dg[dg.citing>1]\n",
    "dg.reset_index(inplace=True)"
   ]
  },
  {
   "cell_type": "code",
   "execution_count": 8,
   "metadata": {
    "collapsed": false
   },
   "outputs": [
    {
     "name": "stdout",
     "output_type": "stream",
     "text": [
      "1000 2000 3000 4000 5000 6000 7000 8000 9000 10000 11000 12000 13000 14000 15000 16000 17000 18000 19000 20000 21000 22000 23000 24000 25000 26000 27000 28000 29000 30000 31000 32000 33000 34000 35000 36000 37000 38000 39000 40000 41000 42000 43000 44000 45000 46000 47000 48000 49000 50000 51000 52000 53000 54000 55000 56000 57000 58000 59000 60000 61000 62000 63000 64000 65000 66000 67000 68000 69000 70000 71000 72000 73000 74000 75000 76000 77000 78000 79000 80000 81000 82000 83000 84000 85000 86000 87000 88000 89000\n"
     ]
    }
   ],
   "source": [
    "cite_all['cited_id']=-1\n",
    "i=0\n",
    "dg_cited=dg.cited.values\n",
    "for x in cite_all.cited:\n",
    "    try:\n",
    "        ind=dg[dg.cited==x].index[0]\n",
    "        cite_all.set_value(i,'cited_id',ind)\n",
    "    except:\n",
    "        pass\n",
    "    i=i+1\n",
    "    if i % 1000 ==0:\n",
    "        print i,\n",
    "print"
   ]
  },
  {
   "cell_type": "code",
   "execution_count": 11,
   "metadata": {
    "collapsed": false
   },
   "outputs": [],
   "source": [
    "cite_all=cite_all[cite_all.cited_id>-1]"
   ]
  },
  {
   "cell_type": "code",
   "execution_count": 12,
   "metadata": {
    "collapsed": true
   },
   "outputs": [],
   "source": [
    "df=cite_all[['citing','cited_id']]\n",
    "df.to_csv('cite_all_id.csv')"
   ]
  },
  {
   "cell_type": "code",
   "execution_count": 13,
   "metadata": {
    "collapsed": false
   },
   "outputs": [],
   "source": [
    "x=df.citing.max()\n",
    "y=df.cited_id.max()\n",
    "mm=np.zeros((x+1,y+1))"
   ]
  },
  {
   "cell_type": "code",
   "execution_count": null,
   "metadata": {
    "collapsed": false
   },
   "outputs": [],
   "source": [
    "for row in df.iterrows():\n",
    "    mm[row[1][0],row[1][1]]=1"
   ]
  },
  {
   "cell_type": "code",
   "execution_count": null,
   "metadata": {
    "collapsed": false,
    "scrolled": true
   },
   "outputs": [],
   "source": [
    "bib=np.tril(np.dot(mm,mm.transpose()),-1)\n",
    "bib"
   ]
  },
  {
   "cell_type": "code",
   "execution_count": null,
   "metadata": {
    "collapsed": false
   },
   "outputs": [],
   "source": [
    "biblio = open('bib.csv', 'w')\n",
    "biblio.write('source,target,weight,type\\n')\n",
    "\n",
    "for row in range(bib.shape[0]):\n",
    "    for col in range(row):\n",
    "        if bib[row][col] > 0:\n",
    "            biblio.write(str(row)+','+str(col)+','+str(bib[row][col])+',undirected\\n')\n",
    "biblio.close()"
   ]
  },
  {
   "cell_type": "code",
   "execution_count": null,
   "metadata": {
    "collapsed": false
   },
   "outputs": [],
   "source": [
    "df=pd.read_csv('bib.csv')\n",
    "df[df.weight>40]"
   ]
  },
  {
   "cell_type": "code",
   "execution_count": null,
   "metadata": {
    "collapsed": true
   },
   "outputs": [],
   "source": []
  }
 ],
 "metadata": {
  "anaconda-cloud": {},
  "kernelspec": {
   "display_name": "Python [Root]",
   "language": "python",
   "name": "Python [Root]"
  },
  "language_info": {
   "codemirror_mode": {
    "name": "ipython",
    "version": 2
   },
   "file_extension": ".py",
   "mimetype": "text/x-python",
   "name": "python",
   "nbconvert_exporter": "python",
   "pygments_lexer": "ipython2",
   "version": "2.7.12"
  }
 },
 "nbformat": 4,
 "nbformat_minor": 0
}
