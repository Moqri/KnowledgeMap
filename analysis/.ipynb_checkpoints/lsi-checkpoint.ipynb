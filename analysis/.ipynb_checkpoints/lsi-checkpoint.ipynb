{
 "cells": [
  {
   "cell_type": "code",
   "execution_count": 82,
   "metadata": {
    "collapsed": false
   },
   "outputs": [],
   "source": [
    "in_path =r'../../data/clean/' # use your path\n",
    "\n",
    "import pandas as pd\n",
    "pd.set_option('display.max_columns', 500)\n",
    "import glob\n",
    "import re\n",
    "from nltk import stem\n",
    "porter = stem.porter.PorterStemmer()\n",
    "from gensim import corpora, models, similarities\n",
    "import matplotlib.pyplot as plt\n",
    "%matplotlib inline\n",
    "\n",
    " \n",
    "\n",
    "def extract_docs(df):\n",
    "    docs_csv=out_path+\"docs.csv\"\n",
    "    df.AB.to_csv(docs_csv, index=False)\n",
    "    print len(df)\n",
    "    with open(docs_csv) as f:\n",
    "        docs = f.readlines()    \n",
    "    return docs\n",
    "\n",
    "def pre(docs):\n",
    "    docs_prepared=out_path+'docs_prepared.csv'\n",
    "    stop= open ('stopList.txt').read()\n",
    "    stop_list = set(stop.replace(\"\\n\", \" \").split())\n",
    "    docs_cleaned = [[re.sub('[.!,;?()\\W\\d]+', '', word) for word in doc.lower().split()] for doc in docs]\n",
    "    docs_stemed = [[porter.stem(word) for word in document if word not in stop_list] for document in docs_cleaned]\n",
    "    with open(docs_prepared, 'w') as f:\n",
    "        for doc in docs_stemed:f.write(\"%s\\n\" % ' '.join(doc))\n",
    "    return docs_stemed\n",
    "\n",
    "def sims():\n",
    "    index = similarities.MatrixSimilarity(corpus_lsi) \n",
    "    lines = docs\n",
    "    sims = open('lsi.csv', 'w')\n",
    "    #countdegree= open('09 LSI - degreecount.csv', 'w')\n",
    "    sims.write('source,target,weight,type\\n')\n",
    "    for i in range(len(docs)):\n",
    "        doc=lines[i]    \n",
    "        vec_bow = dictionary.doc2bow(doc)\n",
    "        vec_tran = lsi[tfidf[vec_bow]]\n",
    "        #vec_tran = lda[tfidf[vec_bow]]\n",
    "        simsinx = index[vec_tran]\n",
    "        #count=0;\n",
    "        #for j in range(0,len(simsinx)):\n",
    "            #if simsinx[j]>.5: \n",
    "                #count=count+1\n",
    "        #countdegree.write(str(i+1)+','+str(count-1));countdegree.write('\\n')\n",
    "        for j in range(i+1,len(simsinx)):\n",
    "            if simsinx[j]>0:                                        \n",
    "                sims.write(str(i)+','+str(j)+','+str(simsinx[j])+',undirected\\n')\n",
    "    sims.close()"
   ]
  },
  {
   "cell_type": "code",
   "execution_count": 86,
   "metadata": {
    "collapsed": false
   },
   "outputs": [],
   "source": [
    "df=pd.read_csv(in_path+\"articles.csv\")"
   ]
  },
  {
   "cell_type": "code",
   "execution_count": 87,
   "metadata": {
    "collapsed": false
   },
   "outputs": [
    {
     "name": "stdout",
     "output_type": "stream",
     "text": [
      "1207\n"
     ]
    }
   ],
   "source": [
    "docs=extract_docs(df)"
   ]
  },
  {
   "cell_type": "code",
   "execution_count": 50,
   "metadata": {
    "collapsed": false
   },
   "outputs": [],
   "source": [
    "docs=pre(docs)"
   ]
  },
  {
   "cell_type": "code",
   "execution_count": 51,
   "metadata": {
    "collapsed": false
   },
   "outputs": [
    {
     "name": "stdout",
     "output_type": "stream",
     "text": [
      "Dictionary(2014 unique tokens: [u'', u'assimil', u'payoff', u'accur', u'deviat']...)\n",
      "MmCorpus(1207 documents, 2014 features, 71503 non-zero entries)\n"
     ]
    }
   ],
   "source": [
    "## documents_clean = [[word for word in document.split() ] for document in docs]\n",
    "dictionary = corpora.Dictionary(docs)\n",
    "dictionary.filter_extremes(no_below=5)\n",
    "dictionary.compactify() \n",
    "print dictionary\n",
    "\n",
    "class MyCorpus(object):\n",
    "    def __iter__(self):\n",
    "        for doc in docs:\n",
    "            yield dictionary.doc2bow(doc)\n",
    "corpus= MyCorpus() \n",
    "corpora.MmCorpus.serialize('deerwester.mm', corpus)\n",
    "corpus = corpora.MmCorpus('deerwester.mm')\n",
    "print corpus"
   ]
  },
  {
   "cell_type": "code",
   "execution_count": 52,
   "metadata": {
    "collapsed": true
   },
   "outputs": [],
   "source": [
    "tfidf = models.tfidfmodel.TfidfModel(corpus)\n",
    "corpus_tfidf = tfidf[corpus]\n",
    "\n",
    "lsi = models.LsiModel(corpus_tfidf, id2word=dictionary, num_topics=100) \n",
    "corpus_lsi=lsi[corpus_tfidf]\n"
   ]
  },
  {
   "cell_type": "code",
   "execution_count": 53,
   "metadata": {
    "collapsed": false
   },
   "outputs": [],
   "source": [
    "sims()"
   ]
  },
  {
   "cell_type": "code",
   "execution_count": 69,
   "metadata": {
    "collapsed": false
   },
   "outputs": [
    {
     "data": {
      "text/plain": [
       "(13676, 4)"
      ]
     },
     "execution_count": 69,
     "metadata": {},
     "output_type": "execute_result"
    }
   ],
   "source": [
    "df=pd.read_csv('lsi.csv')\n",
    "df=df[df.weight>.4]\n",
    "df.shape"
   ]
  },
  {
   "cell_type": "code",
   "execution_count": 70,
   "metadata": {
    "collapsed": false
   },
   "outputs": [
    {
     "data": {
      "image/png": "[encoded data removed]",
      "text/plain": [
       "<matplotlib.figure.Figure at 0x12cc6d8d0>"
      ]
     },
     "metadata": {},
     "output_type": "display_data"
    }
   ],
   "source": [
    "import numpy as np\n",
    "l=df.weight\n",
    "hist=plt.hist(l,101)"
   ]
  },
  {
   "cell_type": "code",
   "execution_count": 71,
   "metadata": {
    "collapsed": false
   },
   "outputs": [
    {
     "data": {
      "text/plain": [
       "<matplotlib.axes._subplots.AxesSubplot at 0x127bc6ed0>"
      ]
     },
     "execution_count": 71,
     "metadata": {},
     "output_type": "execute_result"
    },
    {
     "data": {
      "image/png": "[encoded data removed]",
      "text/plain": [
       "<matplotlib.figure.Figure at 0x11c576d50>"
      ]
     },
     "metadata": {},
     "output_type": "display_data"
    }
   ],
   "source": [
    "l=l.sort_values()\n",
    "l=l.reset_index(drop=True)\n",
    "l.plot(drawstyle='steps')"
   ]
  },
  {
   "cell_type": "code",
   "execution_count": 72,
   "metadata": {
    "collapsed": false
   },
   "outputs": [
    {
     "data": {
      "text/plain": [
       "<matplotlib.axes._subplots.AxesSubplot at 0x11cef8710>"
      ]
     },
     "execution_count": 72,
     "metadata": {},
     "output_type": "execute_result"
    },
    {
     "data": {
      "image/png": "[encoded data removed]",
      "text/plain": [
       "<matplotlib.figure.Figure at 0x11b8acc50>"
      ]
     },
     "metadata": {},
     "output_type": "display_data"
    }
   ],
   "source": [
    "cum_dist = np.linspace(0.,1.,len(l))\n",
    "cdf = pd.Series(cum_dist, index=l)\n",
    "cdf.plot()"
   ]
  },
  {
   "cell_type": "code",
   "execution_count": 73,
   "metadata": {
    "collapsed": true
   },
   "outputs": [],
   "source": [
    "dic=cdf.to_dict()\n",
    "df['p']=df.weight.apply(lambda x :1- dic[x])"
   ]
  },
  {
   "cell_type": "code",
   "execution_count": 74,
   "metadata": {
    "collapsed": false
   },
   "outputs": [
    {
     "data": {
      "image/png": "[encoded data removed]",
      "text/plain": [
       "<matplotlib.figure.Figure at 0x11ccf3610>"
      ]
     },
     "metadata": {},
     "output_type": "display_data"
    }
   ],
   "source": [
    "p=df.p\n",
    "binwidth=.01\n",
    "hist=plt.hist(p,50 )"
   ]
  },
  {
   "cell_type": "code",
   "execution_count": 75,
   "metadata": {
    "collapsed": false
   },
   "outputs": [
    {
     "data": {
      "text/plain": [
       "<matplotlib.axes._subplots.AxesSubplot at 0x12c330510>"
      ]
     },
     "execution_count": 75,
     "metadata": {},
     "output_type": "execute_result"
    },
    {
     "data": {
      "image/png": "[encoded data removed]",
      "text/plain": [
       "<matplotlib.figure.Figure at 0x12cb519d0>"
      ]
     },
     "metadata": {},
     "output_type": "display_data"
    }
   ],
   "source": [
    "p=df.p\n",
    "p=p.sort_values()\n",
    "p=p.reset_index(drop=True)\n",
    "p.plot(drawstyle='steps')"
   ]
  },
  {
   "cell_type": "code",
   "execution_count": 76,
   "metadata": {
    "collapsed": false
   },
   "outputs": [
    {
     "data": {
      "text/plain": [
       "(13676, 5)"
      ]
     },
     "execution_count": 76,
     "metadata": {},
     "output_type": "execute_result"
    }
   ],
   "source": [
    "df.shape"
   ]
  },
  {
   "cell_type": "code",
   "execution_count": 81,
   "metadata": {
    "collapsed": false
   },
   "outputs": [],
   "source": [
    "df[['source','target','p']].to_csv('p_lsi.csv',index=False)"
   ]
  },
  {
   "cell_type": "code",
   "execution_count": null,
   "metadata": {
    "collapsed": true
   },
   "outputs": [],
   "source": []
  }
 ],
 "metadata": {
  "anaconda-cloud": {},
  "kernelspec": {
   "display_name": "Python [Root]",
   "language": "python",
   "name": "Python [Root]"
  },
  "language_info": {
   "codemirror_mode": {
    "name": "ipython",
    "version": 2
   },
   "file_extension": ".py",
   "mimetype": "text/x-python",
   "name": "python",
   "nbconvert_exporter": "python",
   "pygments_lexer": "ipython2",
   "version": "2.7.12"
  }
 },
 "nbformat": 4,
 "nbformat_minor": 0
}
